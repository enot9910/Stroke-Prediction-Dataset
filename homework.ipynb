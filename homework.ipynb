{
 "cells": [
  {
   "cell_type": "markdown",
   "id": "f53f30ad",
   "metadata": {},
   "source": [
    "# 0. Описание задачи"
   ]
  },
  {
   "cell_type": "markdown",
   "id": "80460fbb",
   "metadata": {},
   "source": [
    "## a) Введение"
   ]
  },
  {
   "cell_type": "markdown",
   "id": "77f016ad",
   "metadata": {},
   "source": [
    "Инсульт - острое нарушение кровоснабжения головного мозг, характеризующееся внезапным (в течение нескольких минут, часов) появлением очаговой и/или общемозговой неврологической симптоматики. \n",
    "\n",
    "По данным Всемирной организации здравоохранения (ВОЗ) на 2011 год, инсульт занимал второе место среди причин смерти в мире (около 11% всех смертей). \n",
    "\n",
    "Есть ряд патологий, присутствие которых существенно увеличивает угрозу возникновения инсульта: \n",
    "    атеросклероз сосудов головного мозга; \n",
    "    мерцательная аритмия; \n",
    "    инфаркт миокарда;\n",
    "    наличие предыдущего инсульта;\n",
    "    почечная недостаточнойсть или дисфункция;\n",
    "    высокое артериальное давление; \n",
    "    варикозная болезнь; \n",
    "    нарушение свертываемости крови; \n",
    "    сахарный диабет; \n",
    "    ожирение; \n",
    "    тромботические риски с полицитемией;\n",
    "    малоподвижный образ жизни; \n",
    "    мужской пол;\n",
    "    наследственная предрасположенность;\n",
    "    курение, алкоголизм.\n",
    "\n",
    "Поскольку в последние годы все больше людей ведут сидячий образ жизни, который зачастую сопуствует с переработкой, то риск возникновения данного заболевания увеличивается. Так, иссследование 2016 года (https://www.sciencedirect.com/science/article/pii/S0160412021002208), посвещенное анализу воздействия длительного рабочего дня в 194 странах показали, что продолжительный рабочий день (>55 часов в неделю) стал причиной смерти 745 000 человек в результате инсульта и ишемической болезни сердца в 2016 г., что на 29 процентов больше, чем в 2000 г. Этот эффект связанный с переработкой особенно велико среди мужчин (на них приходится 72% смертей). В исследовании делается вывод о том, что при работе в течение 55 или более часов в неделю риск инсульта повышается примерно на 35%, а риск ишемической болезни сердца – на 17% по сравнению с работой в течение 35‑40 часов в неделю.\n",
    "\n",
    "В силу возрастающего риска возникновения инсульта, существует потребность в мониторинге здоровья людей с использованием некоторых биомаркеров. Факторы риска, описанные выше могут быть разделены на модифицируемые факторы, которые могут блокированы с помощью антитромботические препаратов, бета-блокаторов, изменения образа жизни, а также немодифицируемые факторы, такие как возраст, предыдущий инсульт, почечная недостаточность и т.п.\n",
    "\n",
    "Таким образом, анализ состояния здоровья человека и его предрасположенности к некоторым заболеваниям, может помочь вовремя обратить нимание на риски развития инсульта и при своевременной корректироваки образа жизни/применение препоратов можно избежать возникновения инсульта. "
   ]
  },
  {
   "cell_type": "markdown",
   "id": "fa61e2ac",
   "metadata": {},
   "source": [
    "## b) Описание данных "
   ]
  },
  {
   "cell_type": "markdown",
   "id": "88b1f377",
   "metadata": {},
   "source": [
    "Этот набор данных используется для прогнозирования вероятности инсульта у пациента на основе неоторых факторов риска таких как пол, возраст, различные заболевания и статус курения и т.п. Общий перечень исследуемых факторов был представлен создателями dataset:\n",
    "\n",
    "1) id: Уникальный номер человека\n",
    "2) gender: \"Male\", \"Female\" or \"Other\"\n",
    "3) age: Возраст пациента\n",
    "4) hypertension: 0 если пациент никогда не имел гипертензию, 1 если у человека была гипертензия (гипертензия представляет собой стойкое повышение кровяного давления)\n",
    "5) heart_disease: 0 если пациент никогда не имел сердечных заболеваний, 1 если у человека были сердечные заболевания\n",
    "6) ever_married: \"No\" or \"Yes\" # А в факторах риска такого не было... \n",
    "7) work_type: \"children\", \"Govt_jov\", \"Never_worked\", \"Private\" or \"Self-employed\"\n",
    "8) Residence_type: \"Rural\" или \"Urban\" # Предположительно человек живущий в городе мало двигается, что увеличивает риски развития инсульта \n",
    "9) avg_glucose_level: средний уровень глюкозы в крови\n",
    "10) bmi: индекс массы тела\n",
    "11) smoking_status: \"formerly smoked\", \"never smoked\", \"smokes\" or \"Unknown\"*\n",
    "12) stroke: 1 если у человека был инсульт и 0 если не было"
   ]
  },
  {
   "cell_type": "markdown",
   "id": "68062523",
   "metadata": {},
   "source": [
    "## c) Описание задачи"
   ]
  },
  {
   "cell_type": "markdown",
   "id": "94452a1d",
   "metadata": {},
   "source": [
    "Нужно предсказать, был ли инсульт у человека "
   ]
  },
  {
   "cell_type": "code",
   "execution_count": 1,
   "id": "dc4b4689",
   "metadata": {},
   "outputs": [],
   "source": [
    "import numpy as np              \n",
    "import matplotlib.pyplot as plt \n",
    "%matplotlib inline \n",
    "    # Говорим jupyter'у, чтобы весь графический вывод был в браузере, а не в отдельном окне\n",
    "import pandas as pd             \n",
    "import seaborn as sns           \n",
    "import sklearn                  # Алгоритмы машинного обучения"
   ]
  },
  {
   "cell_type": "markdown",
   "id": "42b78bff",
   "metadata": {},
   "source": [
    "# 1. Чтение данных"
   ]
  },
  {
   "cell_type": "code",
   "execution_count": 2,
   "id": "d6d37fb8",
   "metadata": {},
   "outputs": [],
   "source": [
    "data_raw = pd.read_csv(\"./healthcare-dataset-stroke-data.csv\") # прочитала данные из локальной дирректории.Почему-то не удалось прочитать данные с git (см. ниже)"
   ]
  },
  {
   "cell_type": "code",
   "execution_count": 3,
   "id": "91165f38",
   "metadata": {},
   "outputs": [],
   "source": [
    "#Почему-то не получается(?)\n",
    "#data = \"https://github.com/enot9910/ML_EEG/blob/main/data/EEG_data.csv\"\n",
    "#data_raw = pd.read_csv(data)"
   ]
  },
  {
   "cell_type": "markdown",
   "id": "f5cbdc26",
   "metadata": {},
   "source": [
    "## Посмотрим, что из себя представляют данные"
   ]
  },
  {
   "cell_type": "code",
   "execution_count": 4,
   "id": "1af42e68",
   "metadata": {},
   "outputs": [
    {
     "data": {
      "text/html": [
       "<div>\n",
       "<style scoped>\n",
       "    .dataframe tbody tr th:only-of-type {\n",
       "        vertical-align: middle;\n",
       "    }\n",
       "\n",
       "    .dataframe tbody tr th {\n",
       "        vertical-align: top;\n",
       "    }\n",
       "\n",
       "    .dataframe thead th {\n",
       "        text-align: right;\n",
       "    }\n",
       "</style>\n",
       "<table border=\"1\" class=\"dataframe\">\n",
       "  <thead>\n",
       "    <tr style=\"text-align: right;\">\n",
       "      <th></th>\n",
       "      <th>id</th>\n",
       "      <th>gender</th>\n",
       "      <th>age</th>\n",
       "      <th>hypertension</th>\n",
       "      <th>heart_disease</th>\n",
       "      <th>ever_married</th>\n",
       "      <th>work_type</th>\n",
       "      <th>Residence_type</th>\n",
       "      <th>avg_glucose_level</th>\n",
       "      <th>bmi</th>\n",
       "      <th>smoking_status</th>\n",
       "      <th>stroke</th>\n",
       "    </tr>\n",
       "  </thead>\n",
       "  <tbody>\n",
       "    <tr>\n",
       "      <th>0</th>\n",
       "      <td>9046</td>\n",
       "      <td>Male</td>\n",
       "      <td>67.0</td>\n",
       "      <td>0</td>\n",
       "      <td>1</td>\n",
       "      <td>Yes</td>\n",
       "      <td>Private</td>\n",
       "      <td>Urban</td>\n",
       "      <td>228.69</td>\n",
       "      <td>36.6</td>\n",
       "      <td>formerly smoked</td>\n",
       "      <td>1</td>\n",
       "    </tr>\n",
       "    <tr>\n",
       "      <th>1</th>\n",
       "      <td>51676</td>\n",
       "      <td>Female</td>\n",
       "      <td>61.0</td>\n",
       "      <td>0</td>\n",
       "      <td>0</td>\n",
       "      <td>Yes</td>\n",
       "      <td>Self-employed</td>\n",
       "      <td>Rural</td>\n",
       "      <td>202.21</td>\n",
       "      <td>NaN</td>\n",
       "      <td>never smoked</td>\n",
       "      <td>1</td>\n",
       "    </tr>\n",
       "    <tr>\n",
       "      <th>2</th>\n",
       "      <td>31112</td>\n",
       "      <td>Male</td>\n",
       "      <td>80.0</td>\n",
       "      <td>0</td>\n",
       "      <td>1</td>\n",
       "      <td>Yes</td>\n",
       "      <td>Private</td>\n",
       "      <td>Rural</td>\n",
       "      <td>105.92</td>\n",
       "      <td>32.5</td>\n",
       "      <td>never smoked</td>\n",
       "      <td>1</td>\n",
       "    </tr>\n",
       "    <tr>\n",
       "      <th>3</th>\n",
       "      <td>60182</td>\n",
       "      <td>Female</td>\n",
       "      <td>49.0</td>\n",
       "      <td>0</td>\n",
       "      <td>0</td>\n",
       "      <td>Yes</td>\n",
       "      <td>Private</td>\n",
       "      <td>Urban</td>\n",
       "      <td>171.23</td>\n",
       "      <td>34.4</td>\n",
       "      <td>smokes</td>\n",
       "      <td>1</td>\n",
       "    </tr>\n",
       "    <tr>\n",
       "      <th>4</th>\n",
       "      <td>1665</td>\n",
       "      <td>Female</td>\n",
       "      <td>79.0</td>\n",
       "      <td>1</td>\n",
       "      <td>0</td>\n",
       "      <td>Yes</td>\n",
       "      <td>Self-employed</td>\n",
       "      <td>Rural</td>\n",
       "      <td>174.12</td>\n",
       "      <td>24.0</td>\n",
       "      <td>never smoked</td>\n",
       "      <td>1</td>\n",
       "    </tr>\n",
       "    <tr>\n",
       "      <th>5</th>\n",
       "      <td>56669</td>\n",
       "      <td>Male</td>\n",
       "      <td>81.0</td>\n",
       "      <td>0</td>\n",
       "      <td>0</td>\n",
       "      <td>Yes</td>\n",
       "      <td>Private</td>\n",
       "      <td>Urban</td>\n",
       "      <td>186.21</td>\n",
       "      <td>29.0</td>\n",
       "      <td>formerly smoked</td>\n",
       "      <td>1</td>\n",
       "    </tr>\n",
       "    <tr>\n",
       "      <th>6</th>\n",
       "      <td>53882</td>\n",
       "      <td>Male</td>\n",
       "      <td>74.0</td>\n",
       "      <td>1</td>\n",
       "      <td>1</td>\n",
       "      <td>Yes</td>\n",
       "      <td>Private</td>\n",
       "      <td>Rural</td>\n",
       "      <td>70.09</td>\n",
       "      <td>27.4</td>\n",
       "      <td>never smoked</td>\n",
       "      <td>1</td>\n",
       "    </tr>\n",
       "    <tr>\n",
       "      <th>7</th>\n",
       "      <td>10434</td>\n",
       "      <td>Female</td>\n",
       "      <td>69.0</td>\n",
       "      <td>0</td>\n",
       "      <td>0</td>\n",
       "      <td>No</td>\n",
       "      <td>Private</td>\n",
       "      <td>Urban</td>\n",
       "      <td>94.39</td>\n",
       "      <td>22.8</td>\n",
       "      <td>never smoked</td>\n",
       "      <td>1</td>\n",
       "    </tr>\n",
       "    <tr>\n",
       "      <th>8</th>\n",
       "      <td>27419</td>\n",
       "      <td>Female</td>\n",
       "      <td>59.0</td>\n",
       "      <td>0</td>\n",
       "      <td>0</td>\n",
       "      <td>Yes</td>\n",
       "      <td>Private</td>\n",
       "      <td>Rural</td>\n",
       "      <td>76.15</td>\n",
       "      <td>NaN</td>\n",
       "      <td>Unknown</td>\n",
       "      <td>1</td>\n",
       "    </tr>\n",
       "    <tr>\n",
       "      <th>9</th>\n",
       "      <td>60491</td>\n",
       "      <td>Female</td>\n",
       "      <td>78.0</td>\n",
       "      <td>0</td>\n",
       "      <td>0</td>\n",
       "      <td>Yes</td>\n",
       "      <td>Private</td>\n",
       "      <td>Urban</td>\n",
       "      <td>58.57</td>\n",
       "      <td>24.2</td>\n",
       "      <td>Unknown</td>\n",
       "      <td>1</td>\n",
       "    </tr>\n",
       "  </tbody>\n",
       "</table>\n",
       "</div>"
      ],
      "text/plain": [
       "      id  gender   age  hypertension  heart_disease ever_married  \\\n",
       "0   9046    Male  67.0             0              1          Yes   \n",
       "1  51676  Female  61.0             0              0          Yes   \n",
       "2  31112    Male  80.0             0              1          Yes   \n",
       "3  60182  Female  49.0             0              0          Yes   \n",
       "4   1665  Female  79.0             1              0          Yes   \n",
       "5  56669    Male  81.0             0              0          Yes   \n",
       "6  53882    Male  74.0             1              1          Yes   \n",
       "7  10434  Female  69.0             0              0           No   \n",
       "8  27419  Female  59.0             0              0          Yes   \n",
       "9  60491  Female  78.0             0              0          Yes   \n",
       "\n",
       "       work_type Residence_type  avg_glucose_level   bmi   smoking_status  \\\n",
       "0        Private          Urban             228.69  36.6  formerly smoked   \n",
       "1  Self-employed          Rural             202.21   NaN     never smoked   \n",
       "2        Private          Rural             105.92  32.5     never smoked   \n",
       "3        Private          Urban             171.23  34.4           smokes   \n",
       "4  Self-employed          Rural             174.12  24.0     never smoked   \n",
       "5        Private          Urban             186.21  29.0  formerly smoked   \n",
       "6        Private          Rural              70.09  27.4     never smoked   \n",
       "7        Private          Urban              94.39  22.8     never smoked   \n",
       "8        Private          Rural              76.15   NaN          Unknown   \n",
       "9        Private          Urban              58.57  24.2          Unknown   \n",
       "\n",
       "   stroke  \n",
       "0       1  \n",
       "1       1  \n",
       "2       1  \n",
       "3       1  \n",
       "4       1  \n",
       "5       1  \n",
       "6       1  \n",
       "7       1  \n",
       "8       1  \n",
       "9       1  "
      ]
     },
     "execution_count": 4,
     "metadata": {},
     "output_type": "execute_result"
    }
   ],
   "source": [
    "data_raw.head(10) # посмотрю на первые 10 строчек данных "
   ]
  },
  {
   "cell_type": "code",
   "execution_count": 5,
   "id": "e639cc13",
   "metadata": {},
   "outputs": [
    {
     "data": {
      "text/plain": [
       "(5110, 12)"
      ]
     },
     "execution_count": 5,
     "metadata": {},
     "output_type": "execute_result"
    }
   ],
   "source": [
    "data_raw.shape # посмотрю на размеры таблицы с данными"
   ]
  },
  {
   "cell_type": "markdown",
   "id": "9a7dfde9",
   "metadata": {},
   "source": [
    "# 4. Обработка пропущенных значений"
   ]
  },
  {
   "cell_type": "code",
   "execution_count": 6,
   "id": "653c6371",
   "metadata": {},
   "outputs": [
    {
     "data": {
      "text/plain": [
       "id                     0\n",
       "gender                 0\n",
       "age                    0\n",
       "hypertension           0\n",
       "heart_disease          0\n",
       "ever_married           0\n",
       "work_type              0\n",
       "Residence_type         0\n",
       "avg_glucose_level      0\n",
       "bmi                  201\n",
       "smoking_status         0\n",
       "stroke                 0\n",
       "dtype: int64"
      ]
     },
     "execution_count": 6,
     "metadata": {},
     "output_type": "execute_result"
    }
   ],
   "source": [
    "data_raw.isna().sum() # Смотрю, сколько всего вропущенных значений в разных категориях"
   ]
  },
  {
   "cell_type": "markdown",
   "id": "7499e662",
   "metadata": {},
   "source": [
    "Таким образов в dataset содержится данные с пропущенными значениями. У нас 2 пути: \n",
    "\n",
    "1.Заполнить пропущенные значения \n",
    "2.Исключить проущенные значения \n",
    "\n",
    "Поскольку у нас достаточное количесвто данных, я выберу второй путь."
   ]
  },
  {
   "cell_type": "code",
   "execution_count": 7,
   "id": "c8a4cc18",
   "metadata": {},
   "outputs": [],
   "source": [
    "data_raw = data_raw.dropna() # удалила всезначения, где нет данных о"
   ]
  },
  {
   "cell_type": "code",
   "execution_count": 8,
   "id": "2d8df0e2",
   "metadata": {},
   "outputs": [
    {
     "data": {
      "text/plain": [
       "(4909, 12)"
      ]
     },
     "execution_count": 8,
     "metadata": {},
     "output_type": "execute_result"
    }
   ],
   "source": [
    "data_raw.shape # Хочу вывести новые размеры таблицы с учетом того, что я удалила строки с отсутвующими значениями"
   ]
  },
  {
   "cell_type": "markdown",
   "id": "871b33f3",
   "metadata": {},
   "source": [
    "Хочу еще чуть-чуть почистить данные. В категории 'gender' я обратила внимание на вариант 'other'. Если таких данных не слишком много, мне бы хотелось удалить соотвествующие строчки. Для этого выведу количество человек раличных полов:"
   ]
  },
  {
   "cell_type": "code",
   "execution_count": 9,
   "id": "6a7e818d",
   "metadata": {},
   "outputs": [
    {
     "data": {
      "text/plain": [
       "Female    2897\n",
       "Male      2011\n",
       "Other        1\n",
       "Name: gender, dtype: int64"
      ]
     },
     "execution_count": 9,
     "metadata": {},
     "output_type": "execute_result"
    }
   ],
   "source": [
    "data_raw.gender.value_counts()"
   ]
  },
  {
   "cell_type": "markdown",
   "id": "7d6891eb",
   "metadata": {},
   "source": [
    "Мы видим, что в datas всего один человек с полом 'other', поэтому удалю соотвествующую строчку:"
   ]
  },
  {
   "cell_type": "code",
   "execution_count": 10,
   "id": "c7633f52",
   "metadata": {},
   "outputs": [
    {
     "data": {
      "text/plain": [
       "(4908, 12)"
      ]
     },
     "execution_count": 10,
     "metadata": {},
     "output_type": "execute_result"
    }
   ],
   "source": [
    "data_raw = data_raw[data_raw.gender != 'Other'] # Удаляю строчку если gender = 'Other'\n",
    "data_raw.shape # Хочу проверить, корректно ли почистились данные ((4909, 12) -> (4908, 12))"
   ]
  },
  {
   "cell_type": "markdown",
   "id": "604f1620",
   "metadata": {},
   "source": [
    "# 3. Визуализация данных"
   ]
  },
  {
   "cell_type": "code",
   "execution_count": 11,
   "id": "efe93c6f",
   "metadata": {},
   "outputs": [],
   "source": [
    "data_raw = data_raw.drop(data_raw.iloc[:,[0]], axis = 1) # Поскольку \"id\" обозначает номер пациента не влияет на классификацию, я от него избавляюсь"
   ]
  },
  {
   "cell_type": "markdown",
   "id": "66546f56",
   "metadata": {},
   "source": [
    "## Выведу график корреляции для dataset"
   ]
  },
  {
   "cell_type": "code",
   "execution_count": 12,
   "id": "f477c5d3",
   "metadata": {},
   "outputs": [
    {
     "data": {
      "text/plain": [
       "<AxesSubplot:>"
      ]
     },
     "execution_count": 12,
     "metadata": {},
     "output_type": "execute_result"
    },
    {
     "data": {
      "image/png": "[encoded data removed]",
      "text/plain": [
       "<Figure size 432x288 with 2 Axes>"
      ]
     },
     "metadata": {
      "needs_background": "light"
     },
     "output_type": "display_data"
    }
   ],
   "source": [
    "sns.heatmap(data_raw.corr(), cmap = 'coolwarm', annot=True, linewidths=1)"
   ]
  },
  {
   "cell_type": "markdown",
   "id": "696f93b5",
   "metadata": {},
   "source": [
    "   Из корреляционный матрицы видно, что сильных корреляций (> 0.5) нет. \n",
    "   \n",
    "   Самый большой для инсульта коэффицент корреляции - коэффициент между инсультом и возрастом.Зависимость между инсультом и гипертонией, уровнем глюкозы в крови, сердечными заболеваниями присутсвует, однако меньше, чем для возраста. Что касается зависимости между инсультом и индексом массы тела, то она почти нулевая \n",
    "\n",
    "   Что касается других корреляций, то наименьшая зависимость есть между сердечными заболеваниями и индексом массы тела (Возникает вопрос о корректности данных, поскольку исследования показывают обратную корреляцию). С возрастом имеется корреляция для всех категорий (повышенного давления, болезей сердца, повышенного уровня глюкозы, индексом массы тела, инсульта)"
   ]
  },
  {
   "cell_type": "markdown",
   "id": "d6e9baa6",
   "metadata": {},
   "source": [
    "## Рассмотрю подробней числовые характеристики"
   ]
  },
  {
   "cell_type": "markdown",
   "id": "46c1f8d4",
   "metadata": {},
   "source": [
    "Признаки \"Gender\"(нулевой столбец), \"hypertension\"(второй стобец), \"heart_disease\"(третий столбец), \"ever_married\" (четвертый столбец), \"work_type\" (пятый столбец), \"Residence_type\" (шестой столбец), \"smoking_status\" (9 столбец), \"stroke\" (10 столбец) являются категориальными."
   ]
  },
  {
   "cell_type": "code",
   "execution_count": 13,
   "id": "e9e6adf3",
   "metadata": {},
   "outputs": [],
   "source": [
    "data_raw.iloc[:,[0, 2, 3, 4, 5, 6, 9, 10]] = data_raw.iloc[:,[0, 2, 3, 4, 5, 6, 9, 10]].astype('category') # определила часть столбцов в категориальные данные (iloc - описывает столбцы)"
   ]
  },
  {
   "cell_type": "markdown",
   "id": "5753af1a",
   "metadata": {},
   "source": [
    "Выведу описательную статичтику для количественных данных (age, avg_glucose_level, bmi)"
   ]
  },
  {
   "cell_type": "code",
   "execution_count": 14,
   "id": "f1df5a69",
   "metadata": {},
   "outputs": [
    {
     "data": {
      "text/html": [
       "<div>\n",
       "<style scoped>\n",
       "    .dataframe tbody tr th:only-of-type {\n",
       "        vertical-align: middle;\n",
       "    }\n",
       "\n",
       "    .dataframe tbody tr th {\n",
       "        vertical-align: top;\n",
       "    }\n",
       "\n",
       "    .dataframe thead th {\n",
       "        text-align: right;\n",
       "    }\n",
       "</style>\n",
       "<table border=\"1\" class=\"dataframe\">\n",
       "  <thead>\n",
       "    <tr style=\"text-align: right;\">\n",
       "      <th></th>\n",
       "      <th>age</th>\n",
       "      <th>avg_glucose_level</th>\n",
       "      <th>bmi</th>\n",
       "    </tr>\n",
       "  </thead>\n",
       "  <tbody>\n",
       "    <tr>\n",
       "      <th>count</th>\n",
       "      <td>4908.000000</td>\n",
       "      <td>4908.000000</td>\n",
       "      <td>4908.00000</td>\n",
       "    </tr>\n",
       "    <tr>\n",
       "      <th>mean</th>\n",
       "      <td>42.868810</td>\n",
       "      <td>105.297402</td>\n",
       "      <td>28.89456</td>\n",
       "    </tr>\n",
       "    <tr>\n",
       "      <th>std</th>\n",
       "      <td>22.556128</td>\n",
       "      <td>44.425550</td>\n",
       "      <td>7.85432</td>\n",
       "    </tr>\n",
       "    <tr>\n",
       "      <th>min</th>\n",
       "      <td>0.080000</td>\n",
       "      <td>55.120000</td>\n",
       "      <td>10.30000</td>\n",
       "    </tr>\n",
       "    <tr>\n",
       "      <th>25%</th>\n",
       "      <td>25.000000</td>\n",
       "      <td>77.067500</td>\n",
       "      <td>23.50000</td>\n",
       "    </tr>\n",
       "    <tr>\n",
       "      <th>50%</th>\n",
       "      <td>44.000000</td>\n",
       "      <td>91.680000</td>\n",
       "      <td>28.10000</td>\n",
       "    </tr>\n",
       "    <tr>\n",
       "      <th>75%</th>\n",
       "      <td>60.000000</td>\n",
       "      <td>113.495000</td>\n",
       "      <td>33.10000</td>\n",
       "    </tr>\n",
       "    <tr>\n",
       "      <th>max</th>\n",
       "      <td>82.000000</td>\n",
       "      <td>271.740000</td>\n",
       "      <td>97.60000</td>\n",
       "    </tr>\n",
       "  </tbody>\n",
       "</table>\n",
       "</div>"
      ],
      "text/plain": [
       "               age  avg_glucose_level         bmi\n",
       "count  4908.000000        4908.000000  4908.00000\n",
       "mean     42.868810         105.297402    28.89456\n",
       "std      22.556128          44.425550     7.85432\n",
       "min       0.080000          55.120000    10.30000\n",
       "25%      25.000000          77.067500    23.50000\n",
       "50%      44.000000          91.680000    28.10000\n",
       "75%      60.000000         113.495000    33.10000\n",
       "max      82.000000         271.740000    97.60000"
      ]
     },
     "execution_count": 14,
     "metadata": {},
     "output_type": "execute_result"
    }
   ],
   "source": [
    "data_num = data_raw\n",
    "data_num = data_num.drop(['stroke'], axis = 1)\n",
    "data_num.describe() # таблица будет отписывать среднее значение, стандартное отоклонение, минимальное и максимальное значение для каждого количественного признака"
   ]
  },
  {
   "cell_type": "markdown",
   "id": "4ee7b0ac",
   "metadata": {},
   "source": [
    "Из таблицы видно, что у нас в данных есть люди,чей возраст слишком мал для анализа инсульта (min(age) = 0.08). Предположительно, люди меньше какого-то возраста с наличием инсульта будут выбросами на plt.scatter"
   ]
  },
  {
   "cell_type": "code",
   "execution_count": 15,
   "id": "597ed855",
   "metadata": {},
   "outputs": [
    {
     "data": {
      "text/plain": [
       "<matplotlib.collections.PathCollection at 0x7fd250257340>"
      ]
     },
     "execution_count": 15,
     "metadata": {},
     "output_type": "execute_result"
    },
    {
     "data": {
      "image/png": "[encoded data removed]",
      "text/plain": [
       "<Figure size 432x288 with 1 Axes>"
      ]
     },
     "metadata": {
      "needs_background": "light"
     },
     "output_type": "display_data"
    }
   ],
   "source": [
    "plt.scatter(data_raw['age'],data_raw['stroke'])"
   ]
  },
  {
   "cell_type": "markdown",
   "id": "c06b2647",
   "metadata": {},
   "source": [
    "Мы видим, что на граффике есть выброс (у человека меньше 20 лет)."
   ]
  },
  {
   "cell_type": "code",
   "execution_count": 16,
   "id": "a99589c2",
   "metadata": {},
   "outputs": [
    {
     "data": {
      "text/plain": [
       "245    14.0\n",
       "182    32.0\n",
       "118    38.0\n",
       "49     39.0\n",
       "210    39.0\n",
       "228    39.0\n",
       "31     42.0\n",
       "79     43.0\n",
       "63     45.0\n",
       "94     45.0\n",
       "113    45.0\n",
       "180    46.0\n",
       "88     47.0\n",
       "34     48.0\n",
       "213    48.0\n",
       "3      49.0\n",
       "39     49.0\n",
       "224    49.0\n",
       "15     50.0\n",
       "106    50.0\n",
       "Name: age, dtype: float64"
      ]
     },
     "execution_count": 16,
     "metadata": {},
     "output_type": "execute_result"
    }
   ],
   "source": [
    "data_raw[data_raw['stroke']==1]['age'].nsmallest(20) # удаляю выброс (количество данных: (4908, 11)->(4907, 11))"
   ]
  },
  {
   "cell_type": "code",
   "execution_count": 17,
   "id": "90f0791b",
   "metadata": {},
   "outputs": [
    {
     "data": {
      "text/plain": [
       "(4908, 11)"
      ]
     },
     "execution_count": 17,
     "metadata": {},
     "output_type": "execute_result"
    }
   ],
   "source": [
    "data_raw.shape"
   ]
  },
  {
   "cell_type": "code",
   "execution_count": 18,
   "id": "5256152d",
   "metadata": {},
   "outputs": [],
   "source": [
    "# Не знаю, как лучше было сделать. Просто удалить выброс или удалить значения у всех людей, кто младше 20(?). Оставила первый вариант, т.к. он не такой грубый\n",
    "# data_raw = data_raw[data_raw.age > 20] # удалю данные о людях меньше 20 лет\n",
    "# data_raw.shape #(3908,11)"
   ]
  },
  {
   "cell_type": "markdown",
   "id": "cef2752d",
   "metadata": {},
   "source": [
    "## После чистки данных хочу посмотреть на зависимость между возрастом и инстультом поподробней "
   ]
  },
  {
   "cell_type": "code",
   "execution_count": 19,
   "id": "3b2205fc",
   "metadata": {},
   "outputs": [
    {
     "data": {
      "text/plain": [
       "<AxesSubplot:xlabel='stroke', ylabel='age'>"
      ]
     },
     "execution_count": 19,
     "metadata": {},
     "output_type": "execute_result"
    },
    {
     "data": {
      "image/png": "[encoded data removed]",
      "text/plain": [
       "<Figure size 432x288 with 1 Axes>"
      ]
     },
     "metadata": {
      "needs_background": "light"
     },
     "output_type": "display_data"
    }
   ],
   "source": [
    "sns.boxplot(x=\"stroke\", y=\"age\", data = data_raw)"
   ]
  },
  {
   "cell_type": "markdown",
   "id": "d5630e2d",
   "metadata": {},
   "source": [
    "Из диаграммы видно, что отсутствие инсульта больше характерно для людей до 60 лет, при этом для второй подгруппы видно, что люди старше 60 лет больше склонны к инсульту."
   ]
  },
  {
   "cell_type": "markdown",
   "id": "9cb3a5a9",
   "metadata": {},
   "source": [
    "Выведу матрицу корреляции для числовых значений"
   ]
  },
  {
   "cell_type": "code",
   "execution_count": 20,
   "id": "6599eb7d",
   "metadata": {},
   "outputs": [
    {
     "data": {
      "text/plain": [
       "<AxesSubplot:>"
      ]
     },
     "execution_count": 20,
     "metadata": {},
     "output_type": "execute_result"
    },
    {
     "data": {
      "image/png": "[encoded data removed]",
      "text/plain": [
       "<Figure size 432x288 with 2 Axes>"
      ]
     },
     "metadata": {
      "needs_background": "light"
     },
     "output_type": "display_data"
    }
   ],
   "source": [
    "sns.heatmap(data_raw.corr(), cmap = 'coolwarm', annot=True)"
   ]
  },
  {
   "cell_type": "markdown",
   "id": "89197858",
   "metadata": {},
   "source": [
    "Мы видим, что для этих числовых данных сохраняется корреляция. Самая больша между возрастом и индексом массы тела"
   ]
  },
  {
   "cell_type": "markdown",
   "id": "a72c9766",
   "metadata": {},
   "source": [
    "## Посмотрим, сбалансированы ли наши данные "
   ]
  },
  {
   "cell_type": "code",
   "execution_count": 21,
   "id": "ad30b79c",
   "metadata": {},
   "outputs": [
    {
     "data": {
      "text/plain": [
       "<AxesSubplot:xlabel='stroke', ylabel='count'>"
      ]
     },
     "execution_count": 21,
     "metadata": {},
     "output_type": "execute_result"
    },
    {
     "data": {
      "image/png": "[encoded data removed]",
      "text/plain": [
       "<Figure size 432x288 with 1 Axes>"
      ]
     },
     "metadata": {
      "needs_background": "light"
     },
     "output_type": "display_data"
    }
   ],
   "source": [
    "sns.countplot(x=\"stroke\", data = data_raw)"
   ]
  },
  {
   "cell_type": "markdown",
   "id": "008973e4",
   "metadata": {},
   "source": [
    "Классы в задаче не сблансированы"
   ]
  },
  {
   "cell_type": "markdown",
   "id": "6ec3c975",
   "metadata": {},
   "source": [
    "## Рассмотрим подробней категориальные данные и зависимость инсульта от категориальных данных "
   ]
  },
  {
   "cell_type": "code",
   "execution_count": 22,
   "id": "bb309f48",
   "metadata": {},
   "outputs": [
    {
     "data": {
      "text/html": [
       "<div>\n",
       "<style scoped>\n",
       "    .dataframe tbody tr th:only-of-type {\n",
       "        vertical-align: middle;\n",
       "    }\n",
       "\n",
       "    .dataframe tbody tr th {\n",
       "        vertical-align: top;\n",
       "    }\n",
       "\n",
       "    .dataframe thead th {\n",
       "        text-align: right;\n",
       "    }\n",
       "</style>\n",
       "<table border=\"1\" class=\"dataframe\">\n",
       "  <thead>\n",
       "    <tr style=\"text-align: right;\">\n",
       "      <th></th>\n",
       "      <th>gender</th>\n",
       "      <th>hypertension</th>\n",
       "      <th>heart_disease</th>\n",
       "      <th>ever_married</th>\n",
       "      <th>work_type</th>\n",
       "      <th>Residence_type</th>\n",
       "      <th>smoking_status</th>\n",
       "      <th>stroke</th>\n",
       "    </tr>\n",
       "  </thead>\n",
       "  <tbody>\n",
       "    <tr>\n",
       "      <th>count</th>\n",
       "      <td>4908</td>\n",
       "      <td>4908</td>\n",
       "      <td>4908</td>\n",
       "      <td>4908</td>\n",
       "      <td>4908</td>\n",
       "      <td>4908</td>\n",
       "      <td>4908</td>\n",
       "      <td>4908</td>\n",
       "    </tr>\n",
       "    <tr>\n",
       "      <th>unique</th>\n",
       "      <td>2</td>\n",
       "      <td>2</td>\n",
       "      <td>2</td>\n",
       "      <td>2</td>\n",
       "      <td>5</td>\n",
       "      <td>2</td>\n",
       "      <td>4</td>\n",
       "      <td>2</td>\n",
       "    </tr>\n",
       "    <tr>\n",
       "      <th>top</th>\n",
       "      <td>Female</td>\n",
       "      <td>0</td>\n",
       "      <td>0</td>\n",
       "      <td>Yes</td>\n",
       "      <td>Private</td>\n",
       "      <td>Urban</td>\n",
       "      <td>never smoked</td>\n",
       "      <td>0</td>\n",
       "    </tr>\n",
       "    <tr>\n",
       "      <th>freq</th>\n",
       "      <td>2897</td>\n",
       "      <td>4457</td>\n",
       "      <td>4665</td>\n",
       "      <td>3204</td>\n",
       "      <td>2810</td>\n",
       "      <td>2490</td>\n",
       "      <td>1852</td>\n",
       "      <td>4699</td>\n",
       "    </tr>\n",
       "  </tbody>\n",
       "</table>\n",
       "</div>"
      ],
      "text/plain": [
       "        gender  hypertension  heart_disease ever_married work_type  \\\n",
       "count     4908          4908           4908         4908      4908   \n",
       "unique       2             2              2            2         5   \n",
       "top     Female             0              0          Yes   Private   \n",
       "freq      2897          4457           4665         3204      2810   \n",
       "\n",
       "       Residence_type smoking_status  stroke  \n",
       "count            4908           4908    4908  \n",
       "unique              2              4       2  \n",
       "top             Urban   never smoked       0  \n",
       "freq             2490           1852    4699  "
      ]
     },
     "execution_count": 22,
     "metadata": {},
     "output_type": "execute_result"
    }
   ],
   "source": [
    "data_raw.describe(include = ['category'])"
   ]
  },
  {
   "cell_type": "markdown",
   "id": "19d90f42",
   "metadata": {},
   "source": [
    "## Зависимость от типа работы"
   ]
  },
  {
   "cell_type": "markdown",
   "id": "46ab85cb",
   "metadata": {},
   "source": [
    "Можно предположить, что от типа работы может зависеть наличие или отсутсвие инсульта. Давайте проверим это"
   ]
  },
  {
   "cell_type": "code",
   "execution_count": 23,
   "id": "3c88452f",
   "metadata": {},
   "outputs": [
    {
     "data": {
      "image/png": "[encoded data removed]",
      "text/plain": [
       "<Figure size 864x864 with 4 Axes>"
      ]
     },
     "metadata": {
      "needs_background": "light"
     },
     "output_type": "display_data"
    }
   ],
   "source": [
    "fig, ax = plt.subplots(2,2, figsize=(12,12))\n",
    "\n",
    "sns.countplot(ax=ax[0,0], data=data_raw[data_raw.work_type == 'Private'], x='stroke')\n",
    "sns.countplot(ax=ax[0,1], data=data_raw[data_raw.work_type == 'Govt_job'], x='stroke')\n",
    "sns.countplot(ax=ax[1,0], data=data_raw[data_raw.work_type == 'Self-employed'], x='stroke')\n",
    "sns.countplot(ax=ax[1,1], data=data_raw[data_raw.work_type == 'Never_worked'], x='stroke')\n",
    "\n",
    "plt.show()"
   ]
  },
  {
   "cell_type": "markdown",
   "id": "e8d48d3a",
   "metadata": {},
   "source": [
    "В группе неработающих инсульта нет ;) И здесь мы можем вернуться к началу notebook, где приводилась статья, показывающая влияние переработки на риск возникновения инсульта. "
   ]
  },
  {
   "cell_type": "markdown",
   "id": "eb307227",
   "metadata": {},
   "source": [
    "## Зависимость от места проживания (город/деревня)"
   ]
  },
  {
   "cell_type": "code",
   "execution_count": 24,
   "id": "de8fe241",
   "metadata": {},
   "outputs": [
    {
     "data": {
      "image/png": "[encoded data removed]",
      "text/plain": [
       "<Figure size 864x432 with 2 Axes>"
      ]
     },
     "metadata": {
      "needs_background": "light"
     },
     "output_type": "display_data"
    }
   ],
   "source": [
    "fig, ax = plt.subplots(1,2, figsize=(12,6))\n",
    "\n",
    "sns.countplot(ax=ax[0], data=data_raw[data_raw.Residence_type == 'Urban'], x='stroke')\n",
    "sns.countplot(ax=ax[1], data=data_raw[data_raw.Residence_type == 'Rural'], x='stroke')\n",
    "\n",
    "plt.show()"
   ]
  },
  {
   "cell_type": "markdown",
   "id": "6be582b1",
   "metadata": {},
   "source": [
    "Мы видим, что сильной разницы между наличием инсульта у двух разных подгрупп нет. Значит, мое начальное предположение о том, что жизнь в деревне сопуствует более активному образу жизни и, соотвественно, у таких людей меньше риск инсульта, был неверен."
   ]
  },
  {
   "cell_type": "markdown",
   "id": "4ef9e0be",
   "metadata": {},
   "source": [
    "## Зависимость от того, был ли человек женат или нет"
   ]
  },
  {
   "cell_type": "code",
   "execution_count": 25,
   "id": "79240ac2",
   "metadata": {},
   "outputs": [
    {
     "data": {
      "image/png": "[encoded data removed]",
      "text/plain": [
       "<Figure size 864x432 with 2 Axes>"
      ]
     },
     "metadata": {
      "needs_background": "light"
     },
     "output_type": "display_data"
    }
   ],
   "source": [
    "fig, ax = plt.subplots(1,2, figsize=(12,6))\n",
    "\n",
    "sns.countplot(ax=ax[0], data=data_raw[data_raw.ever_married == 'Yes'], x='stroke')\n",
    "sns.countplot(ax=ax[1], data=data_raw[data_raw.ever_married == 'No'], x='stroke')\n",
    "\n",
    "plt.show()"
   ]
  },
  {
   "cell_type": "markdown",
   "id": "2b227f64",
   "metadata": {},
   "source": [
    "Мы видим, что вероятность инсульта у тех, кто был женат выше, чем у тех, кто не был. "
   ]
  },
  {
   "cell_type": "markdown",
   "id": "2836c0f0",
   "metadata": {},
   "source": [
    "## Зависимость от пола"
   ]
  },
  {
   "cell_type": "code",
   "execution_count": 26,
   "id": "07ccfb99",
   "metadata": {},
   "outputs": [
    {
     "data": {
      "image/png": "[encoded data removed]",
      "text/plain": [
       "<Figure size 864x432 with 2 Axes>"
      ]
     },
     "metadata": {
      "needs_background": "light"
     },
     "output_type": "display_data"
    }
   ],
   "source": [
    "fig, ax = plt.subplots(1,2, figsize=(12,6))\n",
    "\n",
    "sns.countplot(ax=ax[0], data=data_raw[data_raw.gender == 'Female'], x='stroke')\n",
    "sns.countplot(ax=ax[1], data=data_raw[data_raw.gender == 'Male'], x='stroke')\n",
    "\n",
    "plt.show()"
   ]
  },
  {
   "cell_type": "markdown",
   "id": "4bf98008",
   "metadata": {},
   "source": [
    "Здесь также мы не видим разницы между группами наличия инсульта у мужчин и женщин"
   ]
  },
  {
   "cell_type": "markdown",
   "id": "63b099f9",
   "metadata": {},
   "source": [
    "## Зависимость от статуса курения"
   ]
  },
  {
   "cell_type": "code",
   "execution_count": 27,
   "id": "aec03a6f",
   "metadata": {},
   "outputs": [
    {
     "data": {
      "image/png": "[encoded data removed]",
      "text/plain": [
       "<Figure size 864x864 with 4 Axes>"
      ]
     },
     "metadata": {
      "needs_background": "light"
     },
     "output_type": "display_data"
    }
   ],
   "source": [
    "fig, ax = plt.subplots(2,2, figsize=(12,12))\n",
    "\n",
    "sns.countplot(ax=ax[0,0], data=data_raw[data_raw.smoking_status == 'formerly smoked'], x='stroke')\n",
    "sns.countplot(ax=ax[0,1], data=data_raw[data_raw.smoking_status == 'never smoked'], x='stroke')\n",
    "sns.countplot(ax=ax[1,0], data=data_raw[data_raw.smoking_status == 'smokes'], x='stroke')\n",
    "\n",
    "plt.show()"
   ]
  },
  {
   "cell_type": "markdown",
   "id": "1f6279ad",
   "metadata": {},
   "source": [
    "Опять же здесь разницы между лидьми с разными статусами курения мы не видим разницы"
   ]
  },
  {
   "cell_type": "markdown",
   "id": "c689171e",
   "metadata": {},
   "source": [
    "# 4. Обработка категориальных признаков"
   ]
  },
  {
   "cell_type": "markdown",
   "id": "39882072",
   "metadata": {},
   "source": [
    "## Обработка бинарных признаков"
   ]
  },
  {
   "cell_type": "code",
   "execution_count": 28,
   "id": "3d59e683",
   "metadata": {},
   "outputs": [],
   "source": [
    "data_raw['ever_married'] = pd.factorize(data_raw['ever_married'])[0]\n",
    "data_raw['Residence_type'] = pd.factorize(data_raw['Residence_type'])[0]\n",
    "data_raw['heart_disease'] = pd.factorize(data_raw['heart_disease'])[0]\n",
    "data_raw['hypertension'] = pd.factorize(data_raw['hypertension'])[0]\n",
    "data_raw['gender'] = pd.factorize(data_raw['gender'])[0]"
   ]
  },
  {
   "cell_type": "markdown",
   "id": "c811e537",
   "metadata": {},
   "source": [
    "## Обработка небинарных признаков"
   ]
  },
  {
   "cell_type": "markdown",
   "id": "dc3b918d",
   "metadata": {},
   "source": [
    "Признаки 'work_type' и 'smoking_status' являются небинарными. Чтобы создать фиктивные переменные для переменной в кадре данных pandas, мы можем использовать функцию pandas.get_dummies()"
   ]
  },
  {
   "cell_type": "code",
   "execution_count": 29,
   "id": "67d65e1b",
   "metadata": {},
   "outputs": [],
   "source": [
    "Work_dummies = pd.get_dummies(data_raw['work_type']) # создаем фиктивные переменные \n",
    "Smoking_dummies = pd.get_dummies(data_raw['smoking_status'])\n",
    "\n",
    "data_raw = pd.concat((data_raw, Work_dummies), axis=1) # объединяем созданные фиктивные переменные\n",
    "data_raw = data_raw.drop(['work_type'], axis=1) # отбрасываем первый столбец фиктивной переменной\n",
    "data_raw = pd.concat((data_raw, Smoking_dummies), axis=1)\n",
    "data_raw = data_raw.drop(['smoking_status'], axis=1)\n",
    "# аналогично можно было сделать в одну строчку data_raw = pd.get_dummies(data_raw, columns=['work_type', 'smoking_status',], drop_first=True)"
   ]
  },
  {
   "cell_type": "code",
   "execution_count": 30,
   "id": "86cbdfb5",
   "metadata": {},
   "outputs": [
    {
     "data": {
      "text/html": [
       "<div>\n",
       "<style scoped>\n",
       "    .dataframe tbody tr th:only-of-type {\n",
       "        vertical-align: middle;\n",
       "    }\n",
       "\n",
       "    .dataframe tbody tr th {\n",
       "        vertical-align: top;\n",
       "    }\n",
       "\n",
       "    .dataframe thead th {\n",
       "        text-align: right;\n",
       "    }\n",
       "</style>\n",
       "<table border=\"1\" class=\"dataframe\">\n",
       "  <thead>\n",
       "    <tr style=\"text-align: right;\">\n",
       "      <th></th>\n",
       "      <th>gender</th>\n",
       "      <th>age</th>\n",
       "      <th>hypertension</th>\n",
       "      <th>heart_disease</th>\n",
       "      <th>ever_married</th>\n",
       "      <th>Residence_type</th>\n",
       "      <th>avg_glucose_level</th>\n",
       "      <th>bmi</th>\n",
       "      <th>stroke</th>\n",
       "      <th>Govt_job</th>\n",
       "      <th>Never_worked</th>\n",
       "      <th>Private</th>\n",
       "      <th>Self-employed</th>\n",
       "      <th>children</th>\n",
       "      <th>Unknown</th>\n",
       "      <th>formerly smoked</th>\n",
       "      <th>never smoked</th>\n",
       "      <th>smokes</th>\n",
       "    </tr>\n",
       "  </thead>\n",
       "  <tbody>\n",
       "    <tr>\n",
       "      <th>0</th>\n",
       "      <td>0</td>\n",
       "      <td>67.0</td>\n",
       "      <td>0</td>\n",
       "      <td>0</td>\n",
       "      <td>0</td>\n",
       "      <td>0</td>\n",
       "      <td>228.69</td>\n",
       "      <td>36.6</td>\n",
       "      <td>1</td>\n",
       "      <td>0</td>\n",
       "      <td>0</td>\n",
       "      <td>1</td>\n",
       "      <td>0</td>\n",
       "      <td>0</td>\n",
       "      <td>0</td>\n",
       "      <td>1</td>\n",
       "      <td>0</td>\n",
       "      <td>0</td>\n",
       "    </tr>\n",
       "    <tr>\n",
       "      <th>2</th>\n",
       "      <td>0</td>\n",
       "      <td>80.0</td>\n",
       "      <td>0</td>\n",
       "      <td>0</td>\n",
       "      <td>0</td>\n",
       "      <td>1</td>\n",
       "      <td>105.92</td>\n",
       "      <td>32.5</td>\n",
       "      <td>1</td>\n",
       "      <td>0</td>\n",
       "      <td>0</td>\n",
       "      <td>1</td>\n",
       "      <td>0</td>\n",
       "      <td>0</td>\n",
       "      <td>0</td>\n",
       "      <td>0</td>\n",
       "      <td>1</td>\n",
       "      <td>0</td>\n",
       "    </tr>\n",
       "    <tr>\n",
       "      <th>3</th>\n",
       "      <td>1</td>\n",
       "      <td>49.0</td>\n",
       "      <td>0</td>\n",
       "      <td>1</td>\n",
       "      <td>0</td>\n",
       "      <td>0</td>\n",
       "      <td>171.23</td>\n",
       "      <td>34.4</td>\n",
       "      <td>1</td>\n",
       "      <td>0</td>\n",
       "      <td>0</td>\n",
       "      <td>1</td>\n",
       "      <td>0</td>\n",
       "      <td>0</td>\n",
       "      <td>0</td>\n",
       "      <td>0</td>\n",
       "      <td>0</td>\n",
       "      <td>1</td>\n",
       "    </tr>\n",
       "    <tr>\n",
       "      <th>4</th>\n",
       "      <td>1</td>\n",
       "      <td>79.0</td>\n",
       "      <td>1</td>\n",
       "      <td>1</td>\n",
       "      <td>0</td>\n",
       "      <td>1</td>\n",
       "      <td>174.12</td>\n",
       "      <td>24.0</td>\n",
       "      <td>1</td>\n",
       "      <td>0</td>\n",
       "      <td>0</td>\n",
       "      <td>0</td>\n",
       "      <td>1</td>\n",
       "      <td>0</td>\n",
       "      <td>0</td>\n",
       "      <td>0</td>\n",
       "      <td>1</td>\n",
       "      <td>0</td>\n",
       "    </tr>\n",
       "    <tr>\n",
       "      <th>5</th>\n",
       "      <td>0</td>\n",
       "      <td>81.0</td>\n",
       "      <td>0</td>\n",
       "      <td>1</td>\n",
       "      <td>0</td>\n",
       "      <td>0</td>\n",
       "      <td>186.21</td>\n",
       "      <td>29.0</td>\n",
       "      <td>1</td>\n",
       "      <td>0</td>\n",
       "      <td>0</td>\n",
       "      <td>1</td>\n",
       "      <td>0</td>\n",
       "      <td>0</td>\n",
       "      <td>0</td>\n",
       "      <td>1</td>\n",
       "      <td>0</td>\n",
       "      <td>0</td>\n",
       "    </tr>\n",
       "    <tr>\n",
       "      <th>...</th>\n",
       "      <td>...</td>\n",
       "      <td>...</td>\n",
       "      <td>...</td>\n",
       "      <td>...</td>\n",
       "      <td>...</td>\n",
       "      <td>...</td>\n",
       "      <td>...</td>\n",
       "      <td>...</td>\n",
       "      <td>...</td>\n",
       "      <td>...</td>\n",
       "      <td>...</td>\n",
       "      <td>...</td>\n",
       "      <td>...</td>\n",
       "      <td>...</td>\n",
       "      <td>...</td>\n",
       "      <td>...</td>\n",
       "      <td>...</td>\n",
       "      <td>...</td>\n",
       "    </tr>\n",
       "    <tr>\n",
       "      <th>5104</th>\n",
       "      <td>1</td>\n",
       "      <td>13.0</td>\n",
       "      <td>0</td>\n",
       "      <td>1</td>\n",
       "      <td>1</td>\n",
       "      <td>1</td>\n",
       "      <td>103.08</td>\n",
       "      <td>18.6</td>\n",
       "      <td>0</td>\n",
       "      <td>0</td>\n",
       "      <td>0</td>\n",
       "      <td>0</td>\n",
       "      <td>0</td>\n",
       "      <td>1</td>\n",
       "      <td>1</td>\n",
       "      <td>0</td>\n",
       "      <td>0</td>\n",
       "      <td>0</td>\n",
       "    </tr>\n",
       "    <tr>\n",
       "      <th>5106</th>\n",
       "      <td>1</td>\n",
       "      <td>81.0</td>\n",
       "      <td>0</td>\n",
       "      <td>1</td>\n",
       "      <td>0</td>\n",
       "      <td>0</td>\n",
       "      <td>125.20</td>\n",
       "      <td>40.0</td>\n",
       "      <td>0</td>\n",
       "      <td>0</td>\n",
       "      <td>0</td>\n",
       "      <td>0</td>\n",
       "      <td>1</td>\n",
       "      <td>0</td>\n",
       "      <td>0</td>\n",
       "      <td>0</td>\n",
       "      <td>1</td>\n",
       "      <td>0</td>\n",
       "    </tr>\n",
       "    <tr>\n",
       "      <th>5107</th>\n",
       "      <td>1</td>\n",
       "      <td>35.0</td>\n",
       "      <td>0</td>\n",
       "      <td>1</td>\n",
       "      <td>0</td>\n",
       "      <td>1</td>\n",
       "      <td>82.99</td>\n",
       "      <td>30.6</td>\n",
       "      <td>0</td>\n",
       "      <td>0</td>\n",
       "      <td>0</td>\n",
       "      <td>0</td>\n",
       "      <td>1</td>\n",
       "      <td>0</td>\n",
       "      <td>0</td>\n",
       "      <td>0</td>\n",
       "      <td>1</td>\n",
       "      <td>0</td>\n",
       "    </tr>\n",
       "    <tr>\n",
       "      <th>5108</th>\n",
       "      <td>0</td>\n",
       "      <td>51.0</td>\n",
       "      <td>0</td>\n",
       "      <td>1</td>\n",
       "      <td>0</td>\n",
       "      <td>1</td>\n",
       "      <td>166.29</td>\n",
       "      <td>25.6</td>\n",
       "      <td>0</td>\n",
       "      <td>0</td>\n",
       "      <td>0</td>\n",
       "      <td>1</td>\n",
       "      <td>0</td>\n",
       "      <td>0</td>\n",
       "      <td>0</td>\n",
       "      <td>1</td>\n",
       "      <td>0</td>\n",
       "      <td>0</td>\n",
       "    </tr>\n",
       "    <tr>\n",
       "      <th>5109</th>\n",
       "      <td>1</td>\n",
       "      <td>44.0</td>\n",
       "      <td>0</td>\n",
       "      <td>1</td>\n",
       "      <td>0</td>\n",
       "      <td>0</td>\n",
       "      <td>85.28</td>\n",
       "      <td>26.2</td>\n",
       "      <td>0</td>\n",
       "      <td>1</td>\n",
       "      <td>0</td>\n",
       "      <td>0</td>\n",
       "      <td>0</td>\n",
       "      <td>0</td>\n",
       "      <td>1</td>\n",
       "      <td>0</td>\n",
       "      <td>0</td>\n",
       "      <td>0</td>\n",
       "    </tr>\n",
       "  </tbody>\n",
       "</table>\n",
       "<p>4908 rows × 18 columns</p>\n",
       "</div>"
      ],
      "text/plain": [
       "      gender   age  hypertension  heart_disease  ever_married  Residence_type  \\\n",
       "0          0  67.0             0              0             0               0   \n",
       "2          0  80.0             0              0             0               1   \n",
       "3          1  49.0             0              1             0               0   \n",
       "4          1  79.0             1              1             0               1   \n",
       "5          0  81.0             0              1             0               0   \n",
       "...      ...   ...           ...            ...           ...             ...   \n",
       "5104       1  13.0             0              1             1               1   \n",
       "5106       1  81.0             0              1             0               0   \n",
       "5107       1  35.0             0              1             0               1   \n",
       "5108       0  51.0             0              1             0               1   \n",
       "5109       1  44.0             0              1             0               0   \n",
       "\n",
       "      avg_glucose_level   bmi stroke  Govt_job  Never_worked  Private  \\\n",
       "0                228.69  36.6      1         0             0        1   \n",
       "2                105.92  32.5      1         0             0        1   \n",
       "3                171.23  34.4      1         0             0        1   \n",
       "4                174.12  24.0      1         0             0        0   \n",
       "5                186.21  29.0      1         0             0        1   \n",
       "...                 ...   ...    ...       ...           ...      ...   \n",
       "5104             103.08  18.6      0         0             0        0   \n",
       "5106             125.20  40.0      0         0             0        0   \n",
       "5107              82.99  30.6      0         0             0        0   \n",
       "5108             166.29  25.6      0         0             0        1   \n",
       "5109              85.28  26.2      0         1             0        0   \n",
       "\n",
       "      Self-employed  children  Unknown  formerly smoked  never smoked  smokes  \n",
       "0                 0         0        0                1             0       0  \n",
       "2                 0         0        0                0             1       0  \n",
       "3                 0         0        0                0             0       1  \n",
       "4                 1         0        0                0             1       0  \n",
       "5                 0         0        0                1             0       0  \n",
       "...             ...       ...      ...              ...           ...     ...  \n",
       "5104              0         1        1                0             0       0  \n",
       "5106              1         0        0                0             1       0  \n",
       "5107              1         0        0                0             1       0  \n",
       "5108              0         0        0                1             0       0  \n",
       "5109              0         0        1                0             0       0  \n",
       "\n",
       "[4908 rows x 18 columns]"
      ]
     },
     "execution_count": 30,
     "metadata": {},
     "output_type": "execute_result"
    }
   ],
   "source": [
    "data_raw"
   ]
  },
  {
   "cell_type": "markdown",
   "id": "2c01c453",
   "metadata": {},
   "source": [
    "Видим, что в таблице появились новые столбцы с фиктивными переменными."
   ]
  },
  {
   "cell_type": "markdown",
   "id": "05e16b05",
   "metadata": {},
   "source": [
    "# 5. Нормализация "
   ]
  },
  {
   "cell_type": "code",
   "execution_count": 31,
   "id": "4d1cc97c",
   "metadata": {},
   "outputs": [],
   "source": [
    "y = data_raw['stroke']\n",
    "data_raw = data_raw.drop(['stroke'], axis = 1)"
   ]
  },
  {
   "cell_type": "code",
   "execution_count": 32,
   "id": "1fc8b439",
   "metadata": {
    "scrolled": false
   },
   "outputs": [
    {
     "data": {
      "text/html": [
       "<div>\n",
       "<style scoped>\n",
       "    .dataframe tbody tr th:only-of-type {\n",
       "        vertical-align: middle;\n",
       "    }\n",
       "\n",
       "    .dataframe tbody tr th {\n",
       "        vertical-align: top;\n",
       "    }\n",
       "\n",
       "    .dataframe thead th {\n",
       "        text-align: right;\n",
       "    }\n",
       "</style>\n",
       "<table border=\"1\" class=\"dataframe\">\n",
       "  <thead>\n",
       "    <tr style=\"text-align: right;\">\n",
       "      <th></th>\n",
       "      <th>gender</th>\n",
       "      <th>age</th>\n",
       "      <th>hypertension</th>\n",
       "      <th>heart_disease</th>\n",
       "      <th>ever_married</th>\n",
       "      <th>Residence_type</th>\n",
       "      <th>avg_glucose_level</th>\n",
       "      <th>bmi</th>\n",
       "      <th>Govt_job</th>\n",
       "      <th>Never_worked</th>\n",
       "      <th>Private</th>\n",
       "      <th>Self-employed</th>\n",
       "      <th>children</th>\n",
       "      <th>Unknown</th>\n",
       "      <th>formerly smoked</th>\n",
       "      <th>never smoked</th>\n",
       "      <th>smokes</th>\n",
       "    </tr>\n",
       "  </thead>\n",
       "  <tbody>\n",
       "    <tr>\n",
       "      <th>0</th>\n",
       "      <td>0</td>\n",
       "      <td>67.0</td>\n",
       "      <td>0</td>\n",
       "      <td>0</td>\n",
       "      <td>0</td>\n",
       "      <td>0</td>\n",
       "      <td>228.69</td>\n",
       "      <td>36.6</td>\n",
       "      <td>0</td>\n",
       "      <td>0</td>\n",
       "      <td>1</td>\n",
       "      <td>0</td>\n",
       "      <td>0</td>\n",
       "      <td>0</td>\n",
       "      <td>1</td>\n",
       "      <td>0</td>\n",
       "      <td>0</td>\n",
       "    </tr>\n",
       "    <tr>\n",
       "      <th>2</th>\n",
       "      <td>0</td>\n",
       "      <td>80.0</td>\n",
       "      <td>0</td>\n",
       "      <td>0</td>\n",
       "      <td>0</td>\n",
       "      <td>1</td>\n",
       "      <td>105.92</td>\n",
       "      <td>32.5</td>\n",
       "      <td>0</td>\n",
       "      <td>0</td>\n",
       "      <td>1</td>\n",
       "      <td>0</td>\n",
       "      <td>0</td>\n",
       "      <td>0</td>\n",
       "      <td>0</td>\n",
       "      <td>1</td>\n",
       "      <td>0</td>\n",
       "    </tr>\n",
       "    <tr>\n",
       "      <th>3</th>\n",
       "      <td>1</td>\n",
       "      <td>49.0</td>\n",
       "      <td>0</td>\n",
       "      <td>1</td>\n",
       "      <td>0</td>\n",
       "      <td>0</td>\n",
       "      <td>171.23</td>\n",
       "      <td>34.4</td>\n",
       "      <td>0</td>\n",
       "      <td>0</td>\n",
       "      <td>1</td>\n",
       "      <td>0</td>\n",
       "      <td>0</td>\n",
       "      <td>0</td>\n",
       "      <td>0</td>\n",
       "      <td>0</td>\n",
       "      <td>1</td>\n",
       "    </tr>\n",
       "    <tr>\n",
       "      <th>4</th>\n",
       "      <td>1</td>\n",
       "      <td>79.0</td>\n",
       "      <td>1</td>\n",
       "      <td>1</td>\n",
       "      <td>0</td>\n",
       "      <td>1</td>\n",
       "      <td>174.12</td>\n",
       "      <td>24.0</td>\n",
       "      <td>0</td>\n",
       "      <td>0</td>\n",
       "      <td>0</td>\n",
       "      <td>1</td>\n",
       "      <td>0</td>\n",
       "      <td>0</td>\n",
       "      <td>0</td>\n",
       "      <td>1</td>\n",
       "      <td>0</td>\n",
       "    </tr>\n",
       "    <tr>\n",
       "      <th>5</th>\n",
       "      <td>0</td>\n",
       "      <td>81.0</td>\n",
       "      <td>0</td>\n",
       "      <td>1</td>\n",
       "      <td>0</td>\n",
       "      <td>0</td>\n",
       "      <td>186.21</td>\n",
       "      <td>29.0</td>\n",
       "      <td>0</td>\n",
       "      <td>0</td>\n",
       "      <td>1</td>\n",
       "      <td>0</td>\n",
       "      <td>0</td>\n",
       "      <td>0</td>\n",
       "      <td>1</td>\n",
       "      <td>0</td>\n",
       "      <td>0</td>\n",
       "    </tr>\n",
       "    <tr>\n",
       "      <th>...</th>\n",
       "      <td>...</td>\n",
       "      <td>...</td>\n",
       "      <td>...</td>\n",
       "      <td>...</td>\n",
       "      <td>...</td>\n",
       "      <td>...</td>\n",
       "      <td>...</td>\n",
       "      <td>...</td>\n",
       "      <td>...</td>\n",
       "      <td>...</td>\n",
       "      <td>...</td>\n",
       "      <td>...</td>\n",
       "      <td>...</td>\n",
       "      <td>...</td>\n",
       "      <td>...</td>\n",
       "      <td>...</td>\n",
       "      <td>...</td>\n",
       "    </tr>\n",
       "    <tr>\n",
       "      <th>5104</th>\n",
       "      <td>1</td>\n",
       "      <td>13.0</td>\n",
       "      <td>0</td>\n",
       "      <td>1</td>\n",
       "      <td>1</td>\n",
       "      <td>1</td>\n",
       "      <td>103.08</td>\n",
       "      <td>18.6</td>\n",
       "      <td>0</td>\n",
       "      <td>0</td>\n",
       "      <td>0</td>\n",
       "      <td>0</td>\n",
       "      <td>1</td>\n",
       "      <td>1</td>\n",
       "      <td>0</td>\n",
       "      <td>0</td>\n",
       "      <td>0</td>\n",
       "    </tr>\n",
       "    <tr>\n",
       "      <th>5106</th>\n",
       "      <td>1</td>\n",
       "      <td>81.0</td>\n",
       "      <td>0</td>\n",
       "      <td>1</td>\n",
       "      <td>0</td>\n",
       "      <td>0</td>\n",
       "      <td>125.20</td>\n",
       "      <td>40.0</td>\n",
       "      <td>0</td>\n",
       "      <td>0</td>\n",
       "      <td>0</td>\n",
       "      <td>1</td>\n",
       "      <td>0</td>\n",
       "      <td>0</td>\n",
       "      <td>0</td>\n",
       "      <td>1</td>\n",
       "      <td>0</td>\n",
       "    </tr>\n",
       "    <tr>\n",
       "      <th>5107</th>\n",
       "      <td>1</td>\n",
       "      <td>35.0</td>\n",
       "      <td>0</td>\n",
       "      <td>1</td>\n",
       "      <td>0</td>\n",
       "      <td>1</td>\n",
       "      <td>82.99</td>\n",
       "      <td>30.6</td>\n",
       "      <td>0</td>\n",
       "      <td>0</td>\n",
       "      <td>0</td>\n",
       "      <td>1</td>\n",
       "      <td>0</td>\n",
       "      <td>0</td>\n",
       "      <td>0</td>\n",
       "      <td>1</td>\n",
       "      <td>0</td>\n",
       "    </tr>\n",
       "    <tr>\n",
       "      <th>5108</th>\n",
       "      <td>0</td>\n",
       "      <td>51.0</td>\n",
       "      <td>0</td>\n",
       "      <td>1</td>\n",
       "      <td>0</td>\n",
       "      <td>1</td>\n",
       "      <td>166.29</td>\n",
       "      <td>25.6</td>\n",
       "      <td>0</td>\n",
       "      <td>0</td>\n",
       "      <td>1</td>\n",
       "      <td>0</td>\n",
       "      <td>0</td>\n",
       "      <td>0</td>\n",
       "      <td>1</td>\n",
       "      <td>0</td>\n",
       "      <td>0</td>\n",
       "    </tr>\n",
       "    <tr>\n",
       "      <th>5109</th>\n",
       "      <td>1</td>\n",
       "      <td>44.0</td>\n",
       "      <td>0</td>\n",
       "      <td>1</td>\n",
       "      <td>0</td>\n",
       "      <td>0</td>\n",
       "      <td>85.28</td>\n",
       "      <td>26.2</td>\n",
       "      <td>1</td>\n",
       "      <td>0</td>\n",
       "      <td>0</td>\n",
       "      <td>0</td>\n",
       "      <td>0</td>\n",
       "      <td>1</td>\n",
       "      <td>0</td>\n",
       "      <td>0</td>\n",
       "      <td>0</td>\n",
       "    </tr>\n",
       "  </tbody>\n",
       "</table>\n",
       "<p>4908 rows × 17 columns</p>\n",
       "</div>"
      ],
      "text/plain": [
       "      gender   age  hypertension  heart_disease  ever_married  Residence_type  \\\n",
       "0          0  67.0             0              0             0               0   \n",
       "2          0  80.0             0              0             0               1   \n",
       "3          1  49.0             0              1             0               0   \n",
       "4          1  79.0             1              1             0               1   \n",
       "5          0  81.0             0              1             0               0   \n",
       "...      ...   ...           ...            ...           ...             ...   \n",
       "5104       1  13.0             0              1             1               1   \n",
       "5106       1  81.0             0              1             0               0   \n",
       "5107       1  35.0             0              1             0               1   \n",
       "5108       0  51.0             0              1             0               1   \n",
       "5109       1  44.0             0              1             0               0   \n",
       "\n",
       "      avg_glucose_level   bmi  Govt_job  Never_worked  Private  Self-employed  \\\n",
       "0                228.69  36.6         0             0        1              0   \n",
       "2                105.92  32.5         0             0        1              0   \n",
       "3                171.23  34.4         0             0        1              0   \n",
       "4                174.12  24.0         0             0        0              1   \n",
       "5                186.21  29.0         0             0        1              0   \n",
       "...                 ...   ...       ...           ...      ...            ...   \n",
       "5104             103.08  18.6         0             0        0              0   \n",
       "5106             125.20  40.0         0             0        0              1   \n",
       "5107              82.99  30.6         0             0        0              1   \n",
       "5108             166.29  25.6         0             0        1              0   \n",
       "5109              85.28  26.2         1             0        0              0   \n",
       "\n",
       "      children  Unknown  formerly smoked  never smoked  smokes  \n",
       "0            0        0                1             0       0  \n",
       "2            0        0                0             1       0  \n",
       "3            0        0                0             0       1  \n",
       "4            0        0                0             1       0  \n",
       "5            0        0                1             0       0  \n",
       "...        ...      ...              ...           ...     ...  \n",
       "5104         1        1                0             0       0  \n",
       "5106         0        0                0             1       0  \n",
       "5107         0        0                0             1       0  \n",
       "5108         0        0                1             0       0  \n",
       "5109         0        1                0             0       0  \n",
       "\n",
       "[4908 rows x 17 columns]"
      ]
     },
     "execution_count": 32,
     "metadata": {},
     "output_type": "execute_result"
    }
   ],
   "source": [
    "data_raw"
   ]
  },
  {
   "cell_type": "code",
   "execution_count": 33,
   "id": "9b176bc1",
   "metadata": {
    "scrolled": true
   },
   "outputs": [
    {
     "data": {
      "text/html": [
       "<div>\n",
       "<style scoped>\n",
       "    .dataframe tbody tr th:only-of-type {\n",
       "        vertical-align: middle;\n",
       "    }\n",
       "\n",
       "    .dataframe tbody tr th {\n",
       "        vertical-align: top;\n",
       "    }\n",
       "\n",
       "    .dataframe thead th {\n",
       "        text-align: right;\n",
       "    }\n",
       "</style>\n",
       "<table border=\"1\" class=\"dataframe\">\n",
       "  <thead>\n",
       "    <tr style=\"text-align: right;\">\n",
       "      <th></th>\n",
       "      <th>gender</th>\n",
       "      <th>age</th>\n",
       "      <th>hypertension</th>\n",
       "      <th>heart_disease</th>\n",
       "      <th>ever_married</th>\n",
       "      <th>Residence_type</th>\n",
       "      <th>avg_glucose_level</th>\n",
       "      <th>bmi</th>\n",
       "      <th>Govt_job</th>\n",
       "      <th>Never_worked</th>\n",
       "      <th>Private</th>\n",
       "      <th>Self-employed</th>\n",
       "      <th>children</th>\n",
       "      <th>Unknown</th>\n",
       "      <th>formerly smoked</th>\n",
       "      <th>never smoked</th>\n",
       "      <th>smokes</th>\n",
       "    </tr>\n",
       "  </thead>\n",
       "  <tbody>\n",
       "    <tr>\n",
       "      <th>count</th>\n",
       "      <td>4.908000e+03</td>\n",
       "      <td>4.908000e+03</td>\n",
       "      <td>4.908000e+03</td>\n",
       "      <td>4.908000e+03</td>\n",
       "      <td>4.908000e+03</td>\n",
       "      <td>4.908000e+03</td>\n",
       "      <td>4.908000e+03</td>\n",
       "      <td>4.908000e+03</td>\n",
       "      <td>4.908000e+03</td>\n",
       "      <td>4.908000e+03</td>\n",
       "      <td>4.908000e+03</td>\n",
       "      <td>4.908000e+03</td>\n",
       "      <td>4.908000e+03</td>\n",
       "      <td>4.908000e+03</td>\n",
       "      <td>4.908000e+03</td>\n",
       "      <td>4.908000e+03</td>\n",
       "      <td>4.908000e+03</td>\n",
       "    </tr>\n",
       "    <tr>\n",
       "      <th>mean</th>\n",
       "      <td>4.011778e-16</td>\n",
       "      <td>-3.445116e-16</td>\n",
       "      <td>-4.302906e-15</td>\n",
       "      <td>-3.752251e-15</td>\n",
       "      <td>-1.479438e-15</td>\n",
       "      <td>-2.253925e-16</td>\n",
       "      <td>7.262358e-15</td>\n",
       "      <td>-1.396963e-15</td>\n",
       "      <td>3.440153e-16</td>\n",
       "      <td>2.859820e-17</td>\n",
       "      <td>-1.385336e-15</td>\n",
       "      <td>-3.454857e-16</td>\n",
       "      <td>9.332614e-16</td>\n",
       "      <td>1.310687e-15</td>\n",
       "      <td>1.467404e-16</td>\n",
       "      <td>5.319479e-16</td>\n",
       "      <td>-4.584081e-16</td>\n",
       "    </tr>\n",
       "    <tr>\n",
       "      <th>std</th>\n",
       "      <td>1.000000e+00</td>\n",
       "      <td>1.000000e+00</td>\n",
       "      <td>1.000000e+00</td>\n",
       "      <td>1.000000e+00</td>\n",
       "      <td>1.000000e+00</td>\n",
       "      <td>1.000000e+00</td>\n",
       "      <td>1.000000e+00</td>\n",
       "      <td>1.000000e+00</td>\n",
       "      <td>1.000000e+00</td>\n",
       "      <td>1.000000e+00</td>\n",
       "      <td>1.000000e+00</td>\n",
       "      <td>1.000000e+00</td>\n",
       "      <td>1.000000e+00</td>\n",
       "      <td>1.000000e+00</td>\n",
       "      <td>1.000000e+00</td>\n",
       "      <td>1.000000e+00</td>\n",
       "      <td>1.000000e+00</td>\n",
       "    </tr>\n",
       "    <tr>\n",
       "      <th>min</th>\n",
       "      <td>-1.200118e+00</td>\n",
       "      <td>-1.896993e+00</td>\n",
       "      <td>-3.180700e-01</td>\n",
       "      <td>-4.381052e+00</td>\n",
       "      <td>-7.291960e-01</td>\n",
       "      <td>-9.853357e-01</td>\n",
       "      <td>-1.129472e+00</td>\n",
       "      <td>-2.367431e+00</td>\n",
       "      <td>-3.837122e-01</td>\n",
       "      <td>-6.709503e-02</td>\n",
       "      <td>-1.157194e+00</td>\n",
       "      <td>-4.329860e-01</td>\n",
       "      <td>-3.979127e-01</td>\n",
       "      <td>-6.579548e-01</td>\n",
       "      <td>-4.530593e-01</td>\n",
       "      <td>-7.783942e-01</td>\n",
       "      <td>-4.203097e-01</td>\n",
       "    </tr>\n",
       "    <tr>\n",
       "      <th>25%</th>\n",
       "      <td>-1.200118e+00</td>\n",
       "      <td>-7.921932e-01</td>\n",
       "      <td>-3.180700e-01</td>\n",
       "      <td>2.282092e-01</td>\n",
       "      <td>-7.291960e-01</td>\n",
       "      <td>-9.853357e-01</td>\n",
       "      <td>-6.354429e-01</td>\n",
       "      <td>-6.868271e-01</td>\n",
       "      <td>-3.837122e-01</td>\n",
       "      <td>-6.709503e-02</td>\n",
       "      <td>-1.157194e+00</td>\n",
       "      <td>-4.329860e-01</td>\n",
       "      <td>-3.979127e-01</td>\n",
       "      <td>-6.579548e-01</td>\n",
       "      <td>-4.530593e-01</td>\n",
       "      <td>-7.783942e-01</td>\n",
       "      <td>-4.203097e-01</td>\n",
       "    </tr>\n",
       "    <tr>\n",
       "      <th>50%</th>\n",
       "      <td>8.330816e-01</td>\n",
       "      <td>5.015000e-02</td>\n",
       "      <td>-3.180700e-01</td>\n",
       "      <td>2.282092e-01</td>\n",
       "      <td>-7.291960e-01</td>\n",
       "      <td>-9.853357e-01</td>\n",
       "      <td>-3.065219e-01</td>\n",
       "      <td>-1.011622e-01</td>\n",
       "      <td>-3.837122e-01</td>\n",
       "      <td>-6.709503e-02</td>\n",
       "      <td>8.639833e-01</td>\n",
       "      <td>-4.329860e-01</td>\n",
       "      <td>-3.979127e-01</td>\n",
       "      <td>-6.579548e-01</td>\n",
       "      <td>-4.530593e-01</td>\n",
       "      <td>-7.783942e-01</td>\n",
       "      <td>-4.203097e-01</td>\n",
       "    </tr>\n",
       "    <tr>\n",
       "      <th>75%</th>\n",
       "      <td>8.330816e-01</td>\n",
       "      <td>7.594916e-01</td>\n",
       "      <td>-3.180700e-01</td>\n",
       "      <td>2.282092e-01</td>\n",
       "      <td>1.371094e+00</td>\n",
       "      <td>1.014676e+00</td>\n",
       "      <td>1.845244e-01</td>\n",
       "      <td>5.354302e-01</td>\n",
       "      <td>-3.837122e-01</td>\n",
       "      <td>-6.709503e-02</td>\n",
       "      <td>8.639833e-01</td>\n",
       "      <td>-4.329860e-01</td>\n",
       "      <td>-3.979127e-01</td>\n",
       "      <td>1.519552e+00</td>\n",
       "      <td>-4.530593e-01</td>\n",
       "      <td>1.284434e+00</td>\n",
       "      <td>-4.203097e-01</td>\n",
       "    </tr>\n",
       "    <tr>\n",
       "      <th>max</th>\n",
       "      <td>8.330816e-01</td>\n",
       "      <td>1.734836e+00</td>\n",
       "      <td>3.143321e+00</td>\n",
       "      <td>2.282092e-01</td>\n",
       "      <td>1.371094e+00</td>\n",
       "      <td>1.014676e+00</td>\n",
       "      <td>3.746551e+00</td>\n",
       "      <td>8.747472e+00</td>\n",
       "      <td>2.605589e+00</td>\n",
       "      <td>1.490120e+01</td>\n",
       "      <td>8.639833e-01</td>\n",
       "      <td>2.309073e+00</td>\n",
       "      <td>2.512602e+00</td>\n",
       "      <td>1.519552e+00</td>\n",
       "      <td>2.206767e+00</td>\n",
       "      <td>1.284434e+00</td>\n",
       "      <td>2.378713e+00</td>\n",
       "    </tr>\n",
       "  </tbody>\n",
       "</table>\n",
       "</div>"
      ],
      "text/plain": [
       "             gender           age  hypertension  heart_disease  ever_married  \\\n",
       "count  4.908000e+03  4.908000e+03  4.908000e+03   4.908000e+03  4.908000e+03   \n",
       "mean   4.011778e-16 -3.445116e-16 -4.302906e-15  -3.752251e-15 -1.479438e-15   \n",
       "std    1.000000e+00  1.000000e+00  1.000000e+00   1.000000e+00  1.000000e+00   \n",
       "min   -1.200118e+00 -1.896993e+00 -3.180700e-01  -4.381052e+00 -7.291960e-01   \n",
       "25%   -1.200118e+00 -7.921932e-01 -3.180700e-01   2.282092e-01 -7.291960e-01   \n",
       "50%    8.330816e-01  5.015000e-02 -3.180700e-01   2.282092e-01 -7.291960e-01   \n",
       "75%    8.330816e-01  7.594916e-01 -3.180700e-01   2.282092e-01  1.371094e+00   \n",
       "max    8.330816e-01  1.734836e+00  3.143321e+00   2.282092e-01  1.371094e+00   \n",
       "\n",
       "       Residence_type  avg_glucose_level           bmi      Govt_job  \\\n",
       "count    4.908000e+03       4.908000e+03  4.908000e+03  4.908000e+03   \n",
       "mean    -2.253925e-16       7.262358e-15 -1.396963e-15  3.440153e-16   \n",
       "std      1.000000e+00       1.000000e+00  1.000000e+00  1.000000e+00   \n",
       "min     -9.853357e-01      -1.129472e+00 -2.367431e+00 -3.837122e-01   \n",
       "25%     -9.853357e-01      -6.354429e-01 -6.868271e-01 -3.837122e-01   \n",
       "50%     -9.853357e-01      -3.065219e-01 -1.011622e-01 -3.837122e-01   \n",
       "75%      1.014676e+00       1.845244e-01  5.354302e-01 -3.837122e-01   \n",
       "max      1.014676e+00       3.746551e+00  8.747472e+00  2.605589e+00   \n",
       "\n",
       "       Never_worked       Private  Self-employed      children       Unknown  \\\n",
       "count  4.908000e+03  4.908000e+03   4.908000e+03  4.908000e+03  4.908000e+03   \n",
       "mean   2.859820e-17 -1.385336e-15  -3.454857e-16  9.332614e-16  1.310687e-15   \n",
       "std    1.000000e+00  1.000000e+00   1.000000e+00  1.000000e+00  1.000000e+00   \n",
       "min   -6.709503e-02 -1.157194e+00  -4.329860e-01 -3.979127e-01 -6.579548e-01   \n",
       "25%   -6.709503e-02 -1.157194e+00  -4.329860e-01 -3.979127e-01 -6.579548e-01   \n",
       "50%   -6.709503e-02  8.639833e-01  -4.329860e-01 -3.979127e-01 -6.579548e-01   \n",
       "75%   -6.709503e-02  8.639833e-01  -4.329860e-01 -3.979127e-01  1.519552e+00   \n",
       "max    1.490120e+01  8.639833e-01   2.309073e+00  2.512602e+00  1.519552e+00   \n",
       "\n",
       "       formerly smoked  never smoked        smokes  \n",
       "count     4.908000e+03  4.908000e+03  4.908000e+03  \n",
       "mean      1.467404e-16  5.319479e-16 -4.584081e-16  \n",
       "std       1.000000e+00  1.000000e+00  1.000000e+00  \n",
       "min      -4.530593e-01 -7.783942e-01 -4.203097e-01  \n",
       "25%      -4.530593e-01 -7.783942e-01 -4.203097e-01  \n",
       "50%      -4.530593e-01 -7.783942e-01 -4.203097e-01  \n",
       "75%      -4.530593e-01  1.284434e+00 -4.203097e-01  \n",
       "max       2.206767e+00  1.284434e+00  2.378713e+00  "
      ]
     },
     "execution_count": 33,
     "metadata": {},
     "output_type": "execute_result"
    }
   ],
   "source": [
    "data_stand = (data_raw - data_raw.mean(axis = 0))/data_raw.std(axis = 0)\n",
    "x = data_stand\n",
    "data_stand.describe()"
   ]
  },
  {
   "cell_type": "code",
   "execution_count": null,
   "id": "69fe4f5c",
   "metadata": {},
   "outputs": [],
   "source": []
  },
  {
   "cell_type": "markdown",
   "id": "56713232",
   "metadata": {},
   "source": [
    "# 6. Разбиение на обучающую и тестовую выборку"
   ]
  },
  {
   "cell_type": "markdown",
   "id": "13ea3411",
   "metadata": {},
   "source": [
    "Разобьем данные на обучающую и тестовую выборки в пропорции 4:1 (80% - обучающая выборка, 20% - тестовая):"
   ]
  },
  {
   "cell_type": "code",
   "execution_count": 34,
   "id": "c65f4faf",
   "metadata": {},
   "outputs": [
    {
     "name": "stdout",
     "output_type": "stream",
     "text": [
      "(3926, 17) (982, 17)\n"
     ]
    }
   ],
   "source": [
    "from sklearn.model_selection import train_test_split\n",
    "x_train, x_test, y_train, y_test = train_test_split(x, y, test_size = 0.2, random_state = 73)\n",
    "\n",
    "print(x_train.shape , x_test.shape)"
   ]
  },
  {
   "cell_type": "markdown",
   "id": "47308de1",
   "metadata": {},
   "source": [
    "# 7. Классификация KNN"
   ]
  },
  {
   "cell_type": "markdown",
   "id": "22a17470",
   "metadata": {},
   "source": [
    "## Выберу 7 ближайших соседей"
   ]
  },
  {
   "cell_type": "code",
   "execution_count": 35,
   "id": "ca9a9c91",
   "metadata": {},
   "outputs": [
    {
     "data": {
      "text/html": [
       "<style>#sk-container-id-1 {color: black;background-color: white;}#sk-container-id-1 pre{padding: 0;}#sk-container-id-1 div.sk-toggleable {background-color: white;}#sk-container-id-1 label.sk-toggleable__label {cursor: pointer;display: block;width: 100%;margin-bottom: 0;padding: 0.3em;box-sizing: border-box;text-align: center;}#sk-container-id-1 label.sk-toggleable__label-arrow:before {content: \"▸\";float: left;margin-right: 0.25em;color: #696969;}#sk-container-id-1 label.sk-toggleable__label-arrow:hover:before {color: black;}#sk-container-id-1 div.sk-estimator:hover label.sk-toggleable__label-arrow:before {color: black;}#sk-container-id-1 div.sk-toggleable__content {max-height: 0;max-width: 0;overflow: hidden;text-align: left;background-color: #f0f8ff;}#sk-container-id-1 div.sk-toggleable__content pre {margin: 0.2em;color: black;border-radius: 0.25em;background-color: #f0f8ff;}#sk-container-id-1 input.sk-toggleable__control:checked~div.sk-toggleable__content {max-height: 200px;max-width: 100%;overflow: auto;}#sk-container-id-1 input.sk-toggleable__control:checked~label.sk-toggleable__label-arrow:before {content: \"▾\";}#sk-container-id-1 div.sk-estimator input.sk-toggleable__control:checked~label.sk-toggleable__label {background-color: #d4ebff;}#sk-container-id-1 div.sk-label input.sk-toggleable__control:checked~label.sk-toggleable__label {background-color: #d4ebff;}#sk-container-id-1 input.sk-hidden--visually {border: 0;clip: rect(1px 1px 1px 1px);clip: rect(1px, 1px, 1px, 1px);height: 1px;margin: -1px;overflow: hidden;padding: 0;position: absolute;width: 1px;}#sk-container-id-1 div.sk-estimator {font-family: monospace;background-color: #f0f8ff;border: 1px dotted black;border-radius: 0.25em;box-sizing: border-box;margin-bottom: 0.5em;}#sk-container-id-1 div.sk-estimator:hover {background-color: #d4ebff;}#sk-container-id-1 div.sk-parallel-item::after {content: \"\";width: 100%;border-bottom: 1px solid gray;flex-grow: 1;}#sk-container-id-1 div.sk-label:hover label.sk-toggleable__label {background-color: #d4ebff;}#sk-container-id-1 div.sk-serial::before {content: \"\";position: absolute;border-left: 1px solid gray;box-sizing: border-box;top: 0;bottom: 0;left: 50%;z-index: 0;}#sk-container-id-1 div.sk-serial {display: flex;flex-direction: column;align-items: center;background-color: white;padding-right: 0.2em;padding-left: 0.2em;position: relative;}#sk-container-id-1 div.sk-item {position: relative;z-index: 1;}#sk-container-id-1 div.sk-parallel {display: flex;align-items: stretch;justify-content: center;background-color: white;position: relative;}#sk-container-id-1 div.sk-item::before, #sk-container-id-1 div.sk-parallel-item::before {content: \"\";position: absolute;border-left: 1px solid gray;box-sizing: border-box;top: 0;bottom: 0;left: 50%;z-index: -1;}#sk-container-id-1 div.sk-parallel-item {display: flex;flex-direction: column;z-index: 1;position: relative;background-color: white;}#sk-container-id-1 div.sk-parallel-item:first-child::after {align-self: flex-end;width: 50%;}#sk-container-id-1 div.sk-parallel-item:last-child::after {align-self: flex-start;width: 50%;}#sk-container-id-1 div.sk-parallel-item:only-child::after {width: 0;}#sk-container-id-1 div.sk-dashed-wrapped {border: 1px dashed gray;margin: 0 0.4em 0.5em 0.4em;box-sizing: border-box;padding-bottom: 0.4em;background-color: white;}#sk-container-id-1 div.sk-label label {font-family: monospace;font-weight: bold;display: inline-block;line-height: 1.2em;}#sk-container-id-1 div.sk-label-container {text-align: center;}#sk-container-id-1 div.sk-container {/* jupyter's `normalize.less` sets `[hidden] { display: none; }` but bootstrap.min.css set `[hidden] { display: none !important; }` so we also need the `!important` here to be able to override the default hidden behavior on the sphinx rendered scikit-learn.org. See: https://github.com/scikit-learn/scikit-learn/issues/21755 */display: inline-block !important;position: relative;}#sk-container-id-1 div.sk-text-repr-fallback {display: none;}</style><div id=\"sk-container-id-1\" class=\"sk-top-container\"><div class=\"sk-text-repr-fallback\"><pre>KNeighborsClassifier(n_neighbors=7)</pre><b>In a Jupyter environment, please rerun this cell to show the HTML representation or trust the notebook. <br />On GitHub, the HTML representation is unable to render, please try loading this page with nbviewer.org.</b></div><div class=\"sk-container\" hidden><div class=\"sk-item\"><div class=\"sk-estimator sk-toggleable\"><input class=\"sk-toggleable__control sk-hidden--visually\" id=\"sk-estimator-id-1\" type=\"checkbox\" checked><label for=\"sk-estimator-id-1\" class=\"sk-toggleable__label sk-toggleable__label-arrow\">KNeighborsClassifier</label><div class=\"sk-toggleable__content\"><pre>KNeighborsClassifier(n_neighbors=7)</pre></div></div></div></div></div>"
      ],
      "text/plain": [
       "KNeighborsClassifier(n_neighbors=7)"
      ]
     },
     "execution_count": 35,
     "metadata": {},
     "output_type": "execute_result"
    }
   ],
   "source": [
    "from sklearn.neighbors import KNeighborsClassifier\n",
    "\n",
    "knn = KNeighborsClassifier(n_neighbors = 7)\n",
    "knn.fit(x_train, y_train)"
   ]
  },
  {
   "cell_type": "code",
   "execution_count": 36,
   "id": "944da83d",
   "metadata": {},
   "outputs": [
    {
     "data": {
      "text/plain": [
       "0.049923586347427405"
      ]
     },
     "execution_count": 36,
     "metadata": {},
     "output_type": "execute_result"
    }
   ],
   "source": [
    "y_train_predict = knn.predict(x_train)\n",
    "err_train  = np.mean(y_train  != y_train_predict)\n",
    "err_train"
   ]
  },
  {
   "cell_type": "code",
   "execution_count": 37,
   "id": "b3a78f6e",
   "metadata": {},
   "outputs": [
    {
     "data": {
      "text/plain": [
       "0.031568228105906315"
      ]
     },
     "execution_count": 37,
     "metadata": {},
     "output_type": "execute_result"
    }
   ],
   "source": [
    "y_test_predict = knn.predict(x_test)\n",
    "err_test  = np.mean(y_test  != y_test_predict)\n",
    "err_test"
   ]
  },
  {
   "cell_type": "markdown",
   "id": "0a50401c",
   "metadata": {},
   "source": [
    "## Выберу 6 ближайших соседей"
   ]
  },
  {
   "cell_type": "code",
   "execution_count": 38,
   "id": "c12d5620",
   "metadata": {},
   "outputs": [
    {
     "data": {
      "text/html": [
       "<style>#sk-container-id-2 {color: black;background-color: white;}#sk-container-id-2 pre{padding: 0;}#sk-container-id-2 div.sk-toggleable {background-color: white;}#sk-container-id-2 label.sk-toggleable__label {cursor: pointer;display: block;width: 100%;margin-bottom: 0;padding: 0.3em;box-sizing: border-box;text-align: center;}#sk-container-id-2 label.sk-toggleable__label-arrow:before {content: \"▸\";float: left;margin-right: 0.25em;color: #696969;}#sk-container-id-2 label.sk-toggleable__label-arrow:hover:before {color: black;}#sk-container-id-2 div.sk-estimator:hover label.sk-toggleable__label-arrow:before {color: black;}#sk-container-id-2 div.sk-toggleable__content {max-height: 0;max-width: 0;overflow: hidden;text-align: left;background-color: #f0f8ff;}#sk-container-id-2 div.sk-toggleable__content pre {margin: 0.2em;color: black;border-radius: 0.25em;background-color: #f0f8ff;}#sk-container-id-2 input.sk-toggleable__control:checked~div.sk-toggleable__content {max-height: 200px;max-width: 100%;overflow: auto;}#sk-container-id-2 input.sk-toggleable__control:checked~label.sk-toggleable__label-arrow:before {content: \"▾\";}#sk-container-id-2 div.sk-estimator input.sk-toggleable__control:checked~label.sk-toggleable__label {background-color: #d4ebff;}#sk-container-id-2 div.sk-label input.sk-toggleable__control:checked~label.sk-toggleable__label {background-color: #d4ebff;}#sk-container-id-2 input.sk-hidden--visually {border: 0;clip: rect(1px 1px 1px 1px);clip: rect(1px, 1px, 1px, 1px);height: 1px;margin: -1px;overflow: hidden;padding: 0;position: absolute;width: 1px;}#sk-container-id-2 div.sk-estimator {font-family: monospace;background-color: #f0f8ff;border: 1px dotted black;border-radius: 0.25em;box-sizing: border-box;margin-bottom: 0.5em;}#sk-container-id-2 div.sk-estimator:hover {background-color: #d4ebff;}#sk-container-id-2 div.sk-parallel-item::after {content: \"\";width: 100%;border-bottom: 1px solid gray;flex-grow: 1;}#sk-container-id-2 div.sk-label:hover label.sk-toggleable__label {background-color: #d4ebff;}#sk-container-id-2 div.sk-serial::before {content: \"\";position: absolute;border-left: 1px solid gray;box-sizing: border-box;top: 0;bottom: 0;left: 50%;z-index: 0;}#sk-container-id-2 div.sk-serial {display: flex;flex-direction: column;align-items: center;background-color: white;padding-right: 0.2em;padding-left: 0.2em;position: relative;}#sk-container-id-2 div.sk-item {position: relative;z-index: 1;}#sk-container-id-2 div.sk-parallel {display: flex;align-items: stretch;justify-content: center;background-color: white;position: relative;}#sk-container-id-2 div.sk-item::before, #sk-container-id-2 div.sk-parallel-item::before {content: \"\";position: absolute;border-left: 1px solid gray;box-sizing: border-box;top: 0;bottom: 0;left: 50%;z-index: -1;}#sk-container-id-2 div.sk-parallel-item {display: flex;flex-direction: column;z-index: 1;position: relative;background-color: white;}#sk-container-id-2 div.sk-parallel-item:first-child::after {align-self: flex-end;width: 50%;}#sk-container-id-2 div.sk-parallel-item:last-child::after {align-self: flex-start;width: 50%;}#sk-container-id-2 div.sk-parallel-item:only-child::after {width: 0;}#sk-container-id-2 div.sk-dashed-wrapped {border: 1px dashed gray;margin: 0 0.4em 0.5em 0.4em;box-sizing: border-box;padding-bottom: 0.4em;background-color: white;}#sk-container-id-2 div.sk-label label {font-family: monospace;font-weight: bold;display: inline-block;line-height: 1.2em;}#sk-container-id-2 div.sk-label-container {text-align: center;}#sk-container-id-2 div.sk-container {/* jupyter's `normalize.less` sets `[hidden] { display: none; }` but bootstrap.min.css set `[hidden] { display: none !important; }` so we also need the `!important` here to be able to override the default hidden behavior on the sphinx rendered scikit-learn.org. See: https://github.com/scikit-learn/scikit-learn/issues/21755 */display: inline-block !important;position: relative;}#sk-container-id-2 div.sk-text-repr-fallback {display: none;}</style><div id=\"sk-container-id-2\" class=\"sk-top-container\"><div class=\"sk-text-repr-fallback\"><pre>KNeighborsClassifier(n_neighbors=6)</pre><b>In a Jupyter environment, please rerun this cell to show the HTML representation or trust the notebook. <br />On GitHub, the HTML representation is unable to render, please try loading this page with nbviewer.org.</b></div><div class=\"sk-container\" hidden><div class=\"sk-item\"><div class=\"sk-estimator sk-toggleable\"><input class=\"sk-toggleable__control sk-hidden--visually\" id=\"sk-estimator-id-2\" type=\"checkbox\" checked><label for=\"sk-estimator-id-2\" class=\"sk-toggleable__label sk-toggleable__label-arrow\">KNeighborsClassifier</label><div class=\"sk-toggleable__content\"><pre>KNeighborsClassifier(n_neighbors=6)</pre></div></div></div></div></div>"
      ],
      "text/plain": [
       "KNeighborsClassifier(n_neighbors=6)"
      ]
     },
     "execution_count": 38,
     "metadata": {},
     "output_type": "execute_result"
    }
   ],
   "source": [
    "from sklearn.neighbors import KNeighborsClassifier\n",
    "\n",
    "knn = KNeighborsClassifier(n_neighbors = 6)\n",
    "knn.fit(x_train, y_train)"
   ]
  },
  {
   "cell_type": "code",
   "execution_count": 39,
   "id": "85dcb77b",
   "metadata": {},
   "outputs": [
    {
     "data": {
      "text/plain": [
       "0.04610290371879776"
      ]
     },
     "execution_count": 39,
     "metadata": {},
     "output_type": "execute_result"
    }
   ],
   "source": [
    "y_train_predict = knn.predict(x_train)\n",
    "err_train  = np.mean(y_train  != y_train_predict)\n",
    "err_train"
   ]
  },
  {
   "cell_type": "code",
   "execution_count": 40,
   "id": "28e6ee6a",
   "metadata": {},
   "outputs": [
    {
     "data": {
      "text/plain": [
       "0.035641547861507125"
      ]
     },
     "execution_count": 40,
     "metadata": {},
     "output_type": "execute_result"
    }
   ],
   "source": [
    "y_test_predict = knn.predict(x_test)\n",
    "err_test  = np.mean(y_test  != y_test_predict)\n",
    "err_test"
   ]
  },
  {
   "cell_type": "markdown",
   "id": "e2fb10a7",
   "metadata": {},
   "source": [
    "## Выберу 5 ближайших соседей"
   ]
  },
  {
   "cell_type": "code",
   "execution_count": 43,
   "id": "8ac7e0bd",
   "metadata": {},
   "outputs": [
    {
     "data": {
      "text/html": [
       "<style>#sk-container-id-4 {color: black;background-color: white;}#sk-container-id-4 pre{padding: 0;}#sk-container-id-4 div.sk-toggleable {background-color: white;}#sk-container-id-4 label.sk-toggleable__label {cursor: pointer;display: block;width: 100%;margin-bottom: 0;padding: 0.3em;box-sizing: border-box;text-align: center;}#sk-container-id-4 label.sk-toggleable__label-arrow:before {content: \"▸\";float: left;margin-right: 0.25em;color: #696969;}#sk-container-id-4 label.sk-toggleable__label-arrow:hover:before {color: black;}#sk-container-id-4 div.sk-estimator:hover label.sk-toggleable__label-arrow:before {color: black;}#sk-container-id-4 div.sk-toggleable__content {max-height: 0;max-width: 0;overflow: hidden;text-align: left;background-color: #f0f8ff;}#sk-container-id-4 div.sk-toggleable__content pre {margin: 0.2em;color: black;border-radius: 0.25em;background-color: #f0f8ff;}#sk-container-id-4 input.sk-toggleable__control:checked~div.sk-toggleable__content {max-height: 200px;max-width: 100%;overflow: auto;}#sk-container-id-4 input.sk-toggleable__control:checked~label.sk-toggleable__label-arrow:before {content: \"▾\";}#sk-container-id-4 div.sk-estimator input.sk-toggleable__control:checked~label.sk-toggleable__label {background-color: #d4ebff;}#sk-container-id-4 div.sk-label input.sk-toggleable__control:checked~label.sk-toggleable__label {background-color: #d4ebff;}#sk-container-id-4 input.sk-hidden--visually {border: 0;clip: rect(1px 1px 1px 1px);clip: rect(1px, 1px, 1px, 1px);height: 1px;margin: -1px;overflow: hidden;padding: 0;position: absolute;width: 1px;}#sk-container-id-4 div.sk-estimator {font-family: monospace;background-color: #f0f8ff;border: 1px dotted black;border-radius: 0.25em;box-sizing: border-box;margin-bottom: 0.5em;}#sk-container-id-4 div.sk-estimator:hover {background-color: #d4ebff;}#sk-container-id-4 div.sk-parallel-item::after {content: \"\";width: 100%;border-bottom: 1px solid gray;flex-grow: 1;}#sk-container-id-4 div.sk-label:hover label.sk-toggleable__label {background-color: #d4ebff;}#sk-container-id-4 div.sk-serial::before {content: \"\";position: absolute;border-left: 1px solid gray;box-sizing: border-box;top: 0;bottom: 0;left: 50%;z-index: 0;}#sk-container-id-4 div.sk-serial {display: flex;flex-direction: column;align-items: center;background-color: white;padding-right: 0.2em;padding-left: 0.2em;position: relative;}#sk-container-id-4 div.sk-item {position: relative;z-index: 1;}#sk-container-id-4 div.sk-parallel {display: flex;align-items: stretch;justify-content: center;background-color: white;position: relative;}#sk-container-id-4 div.sk-item::before, #sk-container-id-4 div.sk-parallel-item::before {content: \"\";position: absolute;border-left: 1px solid gray;box-sizing: border-box;top: 0;bottom: 0;left: 50%;z-index: -1;}#sk-container-id-4 div.sk-parallel-item {display: flex;flex-direction: column;z-index: 1;position: relative;background-color: white;}#sk-container-id-4 div.sk-parallel-item:first-child::after {align-self: flex-end;width: 50%;}#sk-container-id-4 div.sk-parallel-item:last-child::after {align-self: flex-start;width: 50%;}#sk-container-id-4 div.sk-parallel-item:only-child::after {width: 0;}#sk-container-id-4 div.sk-dashed-wrapped {border: 1px dashed gray;margin: 0 0.4em 0.5em 0.4em;box-sizing: border-box;padding-bottom: 0.4em;background-color: white;}#sk-container-id-4 div.sk-label label {font-family: monospace;font-weight: bold;display: inline-block;line-height: 1.2em;}#sk-container-id-4 div.sk-label-container {text-align: center;}#sk-container-id-4 div.sk-container {/* jupyter's `normalize.less` sets `[hidden] { display: none; }` but bootstrap.min.css set `[hidden] { display: none !important; }` so we also need the `!important` here to be able to override the default hidden behavior on the sphinx rendered scikit-learn.org. See: https://github.com/scikit-learn/scikit-learn/issues/21755 */display: inline-block !important;position: relative;}#sk-container-id-4 div.sk-text-repr-fallback {display: none;}</style><div id=\"sk-container-id-4\" class=\"sk-top-container\"><div class=\"sk-text-repr-fallback\"><pre>KNeighborsClassifier()</pre><b>In a Jupyter environment, please rerun this cell to show the HTML representation or trust the notebook. <br />On GitHub, the HTML representation is unable to render, please try loading this page with nbviewer.org.</b></div><div class=\"sk-container\" hidden><div class=\"sk-item\"><div class=\"sk-estimator sk-toggleable\"><input class=\"sk-toggleable__control sk-hidden--visually\" id=\"sk-estimator-id-4\" type=\"checkbox\" checked><label for=\"sk-estimator-id-4\" class=\"sk-toggleable__label sk-toggleable__label-arrow\">KNeighborsClassifier</label><div class=\"sk-toggleable__content\"><pre>KNeighborsClassifier()</pre></div></div></div></div></div>"
      ],
      "text/plain": [
       "KNeighborsClassifier()"
      ]
     },
     "execution_count": 43,
     "metadata": {},
     "output_type": "execute_result"
    }
   ],
   "source": [
    "from sklearn.neighbors import KNeighborsClassifier\n",
    "\n",
    "knn = KNeighborsClassifier(n_neighbors = 5)\n",
    "knn.fit(x_train, y_train)"
   ]
  },
  {
   "cell_type": "code",
   "execution_count": 44,
   "id": "b5872892",
   "metadata": {},
   "outputs": [
    {
     "data": {
      "text/plain": [
       "0.04610290371879776"
      ]
     },
     "execution_count": 44,
     "metadata": {},
     "output_type": "execute_result"
    }
   ],
   "source": [
    "y_train_predict = knn.predict(x_train)\n",
    "err_train  = np.mean(y_train  != y_train_predict)\n",
    "err_train"
   ]
  },
  {
   "cell_type": "code",
   "execution_count": 45,
   "id": "cd700eb9",
   "metadata": {},
   "outputs": [
    {
     "data": {
      "text/plain": [
       "0.03054989816700611"
      ]
     },
     "execution_count": 45,
     "metadata": {},
     "output_type": "execute_result"
    }
   ],
   "source": [
    "y_test_predict = knn.predict(x_test)\n",
    "err_test  = np.mean(y_test  != y_test_predict)\n",
    "err_test"
   ]
  },
  {
   "cell_type": "code",
   "execution_count": null,
   "id": "e292de1d",
   "metadata": {},
   "outputs": [],
   "source": [
    "При выборе 6 ближайших соседей у нас достигается наименьшая ошибка на тестовой выборке"
   ]
  },
  {
   "cell_type": "code",
   "execution_count": 46,
   "id": "43ffdb13",
   "metadata": {},
   "outputs": [
    {
     "name": "stderr",
     "output_type": "stream",
     "text": [
      "/home/tatyanakhabarova/anaconda3/lib/python3.8/site-packages/sklearn/utils/deprecation.py:87: FutureWarning: Function plot_confusion_matrix is deprecated; Function `plot_confusion_matrix` is deprecated in 1.0 and will be removed in 1.2. Use one of the class methods: ConfusionMatrixDisplay.from_predictions or ConfusionMatrixDisplay.from_estimator.\n",
      "  warnings.warn(msg, category=FutureWarning)\n"
     ]
    },
    {
     "data": {
      "text/plain": [
       "<sklearn.metrics._plot.confusion_matrix.ConfusionMatrixDisplay at 0x7fd21f879910>"
      ]
     },
     "execution_count": 46,
     "metadata": {},
     "output_type": "execute_result"
    },
    {
     "data": {
      "image/png": "[encoded data removed]",
      "text/plain": [
       "<Figure size 432x288 with 2 Axes>"
      ]
     },
     "metadata": {
      "needs_background": "light"
     },
     "output_type": "display_data"
    }
   ],
   "source": [
    "from sklearn.metrics import plot_confusion_matrix\n",
    "plot_confusion_matrix(knn, x_test, y_test)"
   ]
  }
 ],
 "metadata": {
  "kernelspec": {
   "display_name": "Python 3",
   "language": "python",
   "name": "python3"
  },
  "language_info": {
   "codemirror_mode": {
    "name": "ipython",
    "version": 3
   },
   "file_extension": ".py",
   "mimetype": "text/x-python",
   "name": "python",
   "nbconvert_exporter": "python",
   "pygments_lexer": "ipython3",
   "version": "3.8.8"
  }
 },
 "nbformat": 4,
 "nbformat_minor": 5
}
